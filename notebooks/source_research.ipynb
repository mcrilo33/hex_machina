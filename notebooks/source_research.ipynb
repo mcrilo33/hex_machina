{
 "cells": [
  {
   "cell_type": "markdown",
   "metadata": {},
   "source": [
    "# 🔍 Source Research for TTD Newsletter\n",
    "\n",
    "This notebook is used to find, test, and evaluate sources of AI-related content for scraping.\n",
    "\n",
    "👉 [📄 View source-evaluation.md](../docs/source-evaluation.md)"
   ]
  },
  {
   "cell_type": "markdown",
   "metadata": {},
   "source": [
    "## Analyzing already existing most popular newsletter\n",
    "Found them using Google Web search and Chat GPT (for 1 hour)."
   ]
  },
  {
   "cell_type": "code",
   "execution_count": null,
   "metadata": {
    "vscode": {
     "languageId": "plaintext"
    }
   },
   "outputs": [],
   "source": [
    "import pandas as pd\n",
    "\n",
    "newsletters = [\n",
    "    {\"Name\": \"The Batch\", \"URL\": \"https://www.deeplearning.ai/the-batch/\"},\n",
    "    {\"Name\": \"TLDR AI\", \"URL\": \"https://tldr.tech/ai/archives\"},\n",
    "    {\"Name\": \"Latent Space\", \"URL\": \"https://www.latent.space/archive\"},\n",
    "    {\"Name\": \"The Gradient\", \"URL\": \"https://thegradientpub.substack.com/s/the-update\"},\n",
    "    {\"Name\": \"Papers with Code Newsletter\", \"URL\": \"https://paperswithcode.com/newsletter/\"},\n",
    "    {\"Name\": \"Ben's Bites\", \"URL\": None},\n",
    "    {\"Name\": \"Superhuman AI\", \"URL\": \"https://www.superhuman.ai/\"},\n",
    "    {\"Name\": \"Data Machina\", \"URL\": \"https://datamachina.com/\"},\n",
    "    {\"Name\": \"Last Week in AI\", \"URL\": \"https://lastweekin.ai/\"},\n",
    "    {\"Name\": \"One Useful Thing\", \"URL\": \"https://www.oneusefulthing.org/\"},\n",
    "    {\"Name\": \"Deep Learning Weekly\", \"URL\": \"https://www.deeplearningweekly.com/\"},\n",
    "    {\"Name\": \"IMPORT AI\", \"URL\": \"https://jack-clark.net/\"},\n",
    "    {\"Name\": \"Alpha Signal\", \"URL\": \"https://alphasignal.ai/\"}\n",
    "]\n",
    "\n",
    "df = pd.DataFrame(newsletters)\n",
    "print(df)\n"
   ]
  },
  {
   "cell_type": "markdown",
   "metadata": {},
   "source": []
  }
 ],
 "metadata": {
  "language_info": {
   "name": "python"
  }
 },
 "nbformat": 4,
 "nbformat_minor": 2
}
