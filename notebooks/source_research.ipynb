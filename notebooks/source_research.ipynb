{
 "cells": [
  {
   "cell_type": "markdown",
   "metadata": {},
   "source": [
    "# 🔍 Source Research for TTD Newsletter\n",
    "\n",
    "This notebook is used to find, test, and evaluate sources of AI-related content for scraping.\n",
    "\n",
    "👉 [📄 View source-evaluation.md](../docs/source-evaluation.md)"
   ]
  },
  {
   "cell_type": "markdown",
   "metadata": {},
   "source": [
    "## Analyzing already existing most popular newsletter\n",
    "Found them using Google Web search and Chat GPT (1 hour research)."
   ]
  },
  {
   "cell_type": "code",
   "execution_count": 16,
   "metadata": {},
   "outputs": [
    {
     "name": "stdout",
     "output_type": "stream",
     "text": [
      "                    Name                                  URL  \\\n",
      "2                TLDR AI        https://tldr.tech/ai/archives   \n",
      "11  Deep Learning Weekly  https://www.deeplearningweekly.com/   \n",
      "8           Data Machina             https://datamachina.com/   \n",
      "9        Last Week in AI               https://lastweekin.ai/   \n",
      "7          Superhuman AI           https://www.superhuman.ai/   \n",
      "13          Alpha Signal              https://alphasignal.ai/   \n",
      "\n",
      "                                             Comments  \n",
      "2             Very good newsletter, has reading_time.  \n",
      "11                              Very good newsletter.  \n",
      "8             Lot of technical very intersting links.  \n",
      "9                        Various interesting sources.  \n",
      "7   Has a lot of crapy sources but seems to have s...  \n",
      "13                  Interesting but with no archives.  \n"
     ]
    }
   ],
   "source": [
    "import pandas as pd\n",
    "\n",
    "newsletters = [\n",
    "    {\"Name\": \"AI NEWS\", \"URL\": \"https://buttondown.com/ainews/archive/\", \"Comments\": \"Maybe to use later since this is linked to reddit posts.\"},\n",
    "    {\"Name\": \"The Batch\", \"URL\": \"https://www.deeplearning.ai/the-batch/\", \"Comments\": \"Links to research and promotes own learning platform.\"},\n",
    "    {\"Name\": \"TLDR AI\", \"URL\": \"https://tldr.tech/ai/archives\", \"Comments\": \"Very good newsletter, has reading_time.\"},\n",
    "    {\"Name\": \"Latent Space\", \"URL\": \"https://www.latent.space/archive\", \"Comments\": \"Few links to various sources business and technical.\"},\n",
    "    {\"Name\": \"The Gradient\", \"URL\": \"https://thegradientpub.substack.com/s/the-update\", \"Comments\": \"Outdated and with no sources.\"},\n",
    "    {\"Name\": \"Papers with Code Newsletter\", \"URL\": \"https://paperswithcode.com/newsletter/\", \"Comments\": \"Outdated, only paper sources but can be user for concepts see -> https://paperswithcode.com/methods\"},\n",
    "    {\"Name\": \"Ben's Bites\", \"URL\": \"https://bensbites.com/archive\", \"Comments\": \"It has interesting but very few sources.\"},\n",
    "    {\"Name\": \"Superhuman AI\", \"URL\": \"https://www.superhuman.ai/\", \"Comments\": \"Has a lot of crapy sources but seems to have several ai news sources.\"},\n",
    "    {\"Name\": \"Data Machina\", \"URL\": \"https://datamachina.com/\", \"Comments\": \"Lot of technical very intersting links.\"},\n",
    "    {\"Name\": \"Last Week in AI\", \"URL\": \"https://lastweekin.ai/\", \"Comments\": \"Various interesting sources.\"},\n",
    "    {\"Name\": \"One Useful Thing\", \"URL\": \"https://www.oneusefulthing.org/\", \"Comments\": \"No original sources.\"},\n",
    "    {\"Name\": \"Deep Learning Weekly\", \"URL\": \"https://www.deeplearningweekly.com/\", \"Comments\": \"Very good newsletter.\"},\n",
    "    {\"Name\": \"IMPORT AI\", \"URL\": \"https://jack-clark.net/\", \"Comments\": \"No sources.\"},\n",
    "    {\"Name\": \"Alpha Signal\", \"URL\": \"https://alphasignal.ai/\", \"Comments\": \"Interesting but with no archives.\"}\n",
    "]\n",
    "\n",
    "df = pd.DataFrame(newsletters)\n",
    "# selects newsletters based on comments\n",
    "selected_newsletters = df.iloc[[2,11,8,9,7,13]]\n",
    "print(selected_newsletters)\n"
   ]
  },
  {
   "cell_type": "code",
   "execution_count": null,
   "metadata": {},
   "outputs": [],
   "source": []
  }
 ],
 "metadata": {
  "kernelspec": {
   "display_name": "ttd",
   "language": "python",
   "name": "python3"
  },
  "language_info": {
   "codemirror_mode": {
    "name": "ipython",
    "version": 3
   },
   "file_extension": ".py",
   "mimetype": "text/x-python",
   "name": "python",
   "nbconvert_exporter": "python",
   "pygments_lexer": "ipython3",
   "version": "3.13.2"
  }
 },
 "nbformat": 4,
 "nbformat_minor": 2
}
