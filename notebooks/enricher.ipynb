{
 "cells": [
  {
   "cell_type": "markdown",
   "metadata": {},
   "source": [
    "# 🔍 Enricher for TTD Newsletter\n",
    "\n",
    "This notebook is used to find, test, and evaluate enriching methods over articles."
   ]
  },
  {
   "cell_type": "code",
   "execution_count": 1,
   "metadata": {},
   "outputs": [],
   "source": [
    "import sys\n",
    "import os\n",
    "sys.path.append('../')\n",
    "from ttd.storage.ttd_storage import TTDStorage\n",
    "from dotenv import load_dotenv\n",
    "from ttd.config import load_config\n",
    "from pprint import pprint\n",
    "\n",
    "load_dotenv()\n",
    "OPEN_ROUTER_API_KEY = os.getenv(\"OPEN_ROUTER_API_KEY\")\n",
    "config = load_config()\n",
    "DB_PATH = '../' + config[\"db_path\"]"
   ]
  },
  {
   "cell_type": "code",
   "execution_count": null,
   "metadata": {},
   "outputs": [],
   "source": [
    "# load storage and articles\n",
    "storage = TTDStorage(DB_PATH)\n",
    "articles = storage.get_all(\"articles\")"
   ]
  },
  {
   "cell_type": "code",
   "execution_count": 3,
   "metadata": {},
   "outputs": [
    {
     "name": "stdout",
     "output_type": "stream",
     "text": [
      "['title',\n",
      " 'author',\n",
      " 'published_date',\n",
      " 'url_domain',\n",
      " 'url',\n",
      " 'summary',\n",
      " 'tags',\n",
      " 'created_at',\n",
      " 'html_content_path',\n",
      " 'text_content_path']\n"
     ]
    }
   ],
   "source": [
    "pprint(list(articles[0].keys()))"
   ]
  },
  {
   "cell_type": "markdown",
   "metadata": {},
   "source": [
    "## Model Lifecycle"
   ]
  },
  {
   "cell_type": "code",
   "execution_count": null,
   "metadata": {},
   "outputs": [],
   "source": [
    "# test model lifecycle\n",
    "model = {\n",
    "    \"name\": \"deepseek-r1-distill-qwen-32b:free\",\n",
    "    \"version\": \"2025-01-29\",\n",
    "    \"input_format\": \"text\",\n",
    "    \"output_format\": \"text\",\n",
    "    \"config\": {\n",
    "        \"openai\": {\n",
    "            \"base_url\": \"https://openrouter.ai/api/v1\",\n",
    "            \"api_key_env_var\": \"OPEN_ROUTER_API_KEY\",\n",
    "            \"temperature\": 0,\n",
    "            \"max_tokens\": 256,\n",
    "            \"n\": 1\n",
    "        }\n",
    "    }\n",
    "}\n",
    "storage.save_model(model)"
   ]
  },
  {
   "cell_type": "code",
   "execution_count": 5,
   "metadata": {},
   "outputs": [],
   "source": [
    "model_dict = storage.get_model_by_name(\"deepseek-r1-distill-qwen-32b:free\")\n",
    "model_dict[\"config\"][\"openai\"][\"model\"] = \"deepseek/deepseek-r1-distill-qwen-32b:free\"\n",
    "model_dict[\"input_format\"] = \"text_content\"\n",
    "model_dict[\"output_format\"] = \"summary\"\n",
    "storage.update_model(model_dict)\n",
    "storage.delete_field_from_table(\"models\", \"task_type\")"
   ]
  },
  {
   "cell_type": "code",
   "execution_count": 6,
   "metadata": {},
   "outputs": [
    {
     "name": "stdout",
     "output_type": "stream",
     "text": [
      "{'config': {'openai': {'api_key_env_var': 'OPEN_ROUTER_API_KEY',\n",
      "                       'base_url': 'https://openrouter.ai/api/v1',\n",
      "                       'model': 'deepseek/deepseek-r1-distill-qwen-32b:free',\n",
      "                       'n': 1,\n",
      "                       'temperature': 0}},\n",
      " 'created_at': '2025-04-01T20:03:35.982601',\n",
      " 'input_format': 'text_content',\n",
      " 'last_updated': '2025-04-02T17:19:03.810618',\n",
      " 'name': 'deepseek-r1-distill-qwen-32b:free',\n",
      " 'output_format': 'summary',\n",
      " 'version': '2025-01-29'}\n"
     ]
    }
   ],
   "source": [
    "model_dict = storage.get_model_by_name(\"deepseek-r1-distill-qwen-32b:free\")\n",
    "pprint(model_dict)"
   ]
  },
  {
   "cell_type": "code",
   "execution_count": 4,
   "metadata": {},
   "outputs": [
    {
     "data": {
      "text/plain": [
       "{'name': 'deepseek-r1-distill-qwen-32b:free',\n",
       " 'version': '2025-01-29',\n",
       " 'input_format': 'text_content',\n",
       " 'output_format': 'summary',\n",
       " 'config': {'openai': {'temperature': 0, 'n': 1}},\n",
       " 'created_at': '2025-04-01T20:03:35.982601',\n",
       " 'last_updated': '2025-04-02T17:19:03.810618',\n",
       " 'model_instance': <ttd.storage.model_manager.OpenAIModel at 0x107652b00>}"
      ]
     },
     "execution_count": 4,
     "metadata": {},
     "output_type": "execute_result"
    }
   ],
   "source": [
    "model = storage.load_model_by_name(\"deepseek-r1-distill-qwen-32b:free\")\n",
    "model"
   ]
  },
  {
   "cell_type": "code",
   "execution_count": 8,
   "metadata": {},
   "outputs": [],
   "source": [
    "predictions = storage.run_model_on_articles(model, articles, save=False)"
   ]
  },
  {
   "cell_type": "code",
   "execution_count": 9,
   "metadata": {},
   "outputs": [
    {
     "data": {
      "text/plain": [
       "[{'article_id': 1,\n",
       "  'model_id': 1,\n",
       "  'task_type': 'summary',\n",
       "  'output': \"It seems like your message might be incomplete or unclear. Could you clarify or provide more details about what you're asking or referring to? I'm here to help!\",\n",
       "  'created_at': '2025-04-02T17:19:05.641263',\n",
       "  'execution_time': 1},\n",
       " {'article_id': 2,\n",
       "  'model_id': 1,\n",
       "  'task_type': 'summary',\n",
       "  'output': 'To solve the equation \\\\(5x + 3 = 2x + 12\\\\), follow these steps:\\n\\n1. **Subtract \\\\(2x\\\\) from both sides** to isolate the variable terms on one side:\\n   \\\\[\\n   5x + 3 - 2x = 2x + 12 - 2x\\n   \\\\]\\n   Simplifying:\\n   \\\\[\\n   3x + 3 = 12\\n   \\\\]\\n\\n2. **Subtract 3 from both sides** to isolate the term with \\\\(x\\\\):\\n   \\\\[\\n   3x + 3 - 3 = 12 - 3\\n   \\\\]\\n   Simplifying:\\n   \\\\[\\n   3x = 9\\n   \\\\]\\n\\n3. **Divide both sides by 3** to solve for \\\\(x\\\\):\\n   \\\\[\\n   \\\\frac{3x}{3} = \\\\frac{9}{3}\\n   \\\\]\\n   Simplifying:\\n   \\\\[\\n   x = 3\\n   \\\\]\\n\\n**Final Answer:**\\n\\\\[\\n\\\\boxed{3}\\n\\\\]',\n",
       "  'created_at': '2025-04-02T17:19:10.911818',\n",
       "  'execution_time': 5},\n",
       " {'article_id': 3,\n",
       "  'model_id': 1,\n",
       "  'task_type': 'summary',\n",
       "  'output': 'Hello! How can I assist you today? 😊',\n",
       "  'created_at': '2025-04-02T17:19:11.881523',\n",
       "  'execution_time': 0},\n",
       " {'article_id': 4,\n",
       "  'model_id': 1,\n",
       "  'task_type': 'summary',\n",
       "  'output': 'Hello! How can I assist you today? 😊',\n",
       "  'created_at': '2025-04-02T17:19:12.898837',\n",
       "  'execution_time': 1},\n",
       " {'article_id': 5,\n",
       "  'model_id': 1,\n",
       "  'task_type': 'summary',\n",
       "  'output': 'Here are the scenarios and solutions for each reason a dog might bite someone:\\n\\n1. **Fear**\\n   - **Scenario:** A dog may bite if it feels threatened or scared, such as when approached by a stranger or in a loud environment.\\n   - **Solution:** Approach the dog calmly, avoid sudden movements, and give it space. Use positive reinforcement to build confidence.\\n\\n2. **Pain**\\n   - **Scenario:** A dog in pain may bite when touched or handled, especially if it\\'s injured or sick.\\n   - **Solution:** Identify and address the source of pain. Consult a vet for medical treatment and avoid touching painful areas.\\n\\n3. **Possessiveness**\\n   - **Scenario:** A dog may bite to protect its food, toys, or belongings from being taken.\\n   - **Solution:** Use commands like \"leave it\" and reward the dog for giving up items. Avoid taking items away forcefully.\\n\\n4. **Redirected Aggression**\\n   - **Scenario:** A dog may bite someone after being agitated by another animal or stimulus.\\n   - **Solution:** Remove the dog from the agitating situation and provide a safe space. Train to focus on commands to redirect attention.\\n\\n5. **Dominance**\\n   - **Scenario:** A dog may bite to assert dominance, often during conflicts with other dogs or humans.\\n   - **Solution:** Establish clear leadership through consistent training and commands. Avoid confrontational interactions.\\n\\n6. **Predatory**\\n   - **Scenario:** A dog may bite due to hunting instincts, triggered by movement or prey-like behavior.\\n   - **Solution:** Use toys to redirect predatory instincts. Train the dog to recall or focus on commands.\\n\\n7. **Frustration**\\n   - **Scenario:** A dog may bite when frustrated, such as being restrained or unable to reach something.\\n   - **Solution:** Provide outlets for energy, like exercise and play. Avoid situations that cause frustration.\\n\\n8. **Territorial**\\n   - **Scenario:** A dog may bite to protect its territory, such as the home or yard, from intruders.\\n   - **Solution:** Use positive reinforcement to associate visitors with positive experiences. Gradually introduce the dog to new people in a controlled manner.\\n\\n9. **Excitement**\\n   - **Scenario:** A dog may bite out of overexcitement, such as during play or greeting.\\n   - **Solution:** Teach the dog to calm down with commands like \"sit\" or \"down.\" Avoid rough play and use toys to channel energy.\\n\\n10. **Stress**\\n    - **Scenario:** A stressed dog may bite as a reaction to overwhelming situations, like loud noises or new environments.\\n    - **Solution:** Identify stress triggers and minimize exposure. Use calming techniques like soothing music or pheromone diffusers.',\n",
       "  'created_at': '2025-04-02T17:19:19.288881',\n",
       "  'execution_time': 6}]"
      ]
     },
     "execution_count": 9,
     "metadata": {},
     "output_type": "execute_result"
    }
   ],
   "source": [
    "predictions"
   ]
  },
  {
   "cell_type": "code",
   "execution_count": 12,
   "metadata": {},
   "outputs": [
    {
     "data": {
      "text/plain": [
       "{'title': 'Open LLMs are Necessary For Current Private Adaptations and Outperform Their Closed Alternatives [Paper Reflection]',\n",
       " 'author': 'Olatunji Iyiola Emmanuel',\n",
       " 'published_date': 'Thu, 20 Feb 2025 11:30:00 +0000',\n",
       " 'url_domain': 'neptune.ai',\n",
       " 'url': 'https://neptune.ai/blog/open-llms-are-necessary-for-current-private-adaptations-and-outperform-closed-alternatives',\n",
       " 'summary': 'Closed Large Language Models (LLMs), which are proprietary and accessible only via APIs, have dominated the LLM space since around 2022 due to their high performance and versatility. However, Open LLMs have made substantial progress, narrowing the performance gap with their Closed LLM counterparts. Open LLMs are models whose architecture and parameters are publicly available&#8230;',\n",
       " 'tags': ['LLMOps', 'Paper Reflections'],\n",
       " 'created_at': '2025-04-01T10:10:11.787483',\n",
       " 'html_content_path': '/Users/mathieucrilout/Repos/train-tune-deploy/data/raw/2025/04/https%3A%2F%2Fneptune.ai%2Fblog%2Fopen-llms-are-necessary-for-current-private-adaptations-and-outperform-closed-alternatives_raw.html',\n",
       " 'text_content_path': '/Users/mathieucrilout/Repos/train-tune-deploy/data/raw/2025/04/https%3A%2F%2Fneptune.ai%2Fblog%2Fopen-llms-are-necessary-for-current-private-adaptations-and-outperform-closed-alternatives_extracted.txt'}"
      ]
     },
     "execution_count": 12,
     "metadata": {},
     "output_type": "execute_result"
    }
   ],
   "source": [
    "articles[0]"
   ]
  },
  {
   "cell_type": "code",
   "execution_count": 8,
   "metadata": {},
   "outputs": [
    {
     "name": "stdout",
     "output_type": "stream",
     "text": [
      "('The text discusses the evolution and comparison of Open and Closed Large '\n",
      " 'Language Models (LLMs) with a focus on privacy implications during '\n",
      " \"fine-tuning. Here's a structured summary:\\n\"\n",
      " '\\n'\n",
      " '1. **Dominance and Progress**:\\n'\n",
      " '   - Closed LLMs, like GPT-4 and Claude, have been dominant since 2022 due '\n",
      " 'to their performance and versatility.\\n'\n",
      " '   - Open LLMs, such as Llama 3 and DeepSeek-R1, have made significant '\n",
      " 'strides, surpassing some Closed models in tasks like coding and '\n",
      " 'summarization.\\n'\n",
      " '\\n'\n",
      " '2. **Privacy Focus**:\\n'\n",
      " '   - The paper emphasizes privacy concerns when adapting LLMs to sensitive '\n",
      " 'data, comparing Open and Closed models.\\n'\n",
      " '\\n'\n",
      " '3. **Threat Models for Closed LLMs**:\\n'\n",
      " '   - Three main risks: data exposure to providers, query exposure, and '\n",
      " 'potential data extraction by malicious users.\\n'\n",
      " '   - Open LLMs mitigate these risks by allowing local control, eliminating '\n",
      " 'third-party involvement.\\n'\n",
      " '\\n'\n",
      " '4. **Private Adaptation Methods**:\\n'\n",
      " '   - **Closed LLMs**: Use methods like prompt-based learning and in-context '\n",
      " 'learning with Differential Privacy (DP). However, except for DP-OPT, these '\n",
      " 'methods leak training data to providers.\\n'\n",
      " '   - **Open LLMs**: Utilize parameter-based methods (e.g., DPSGD, '\n",
      " 'PrivateLoRA, DP-FineTune) which offer better privacy, performance, and '\n",
      " 'cost-effectiveness.\\n'\n",
      " '\\n'\n",
      " '5. **Findings and Conclusion**:\\n'\n",
      " '   - Open LLMs provide superior privacy, performance, and cost savings. For '\n",
      " 'example, tasks cost $30 for Open vs. $140 for Closed models.\\n'\n",
      " '   - Conclusion: Open LLMs are recommended for private adaptation due to '\n",
      " 'their robust privacy, efficiency, and flexibility.\\n'\n",
      " '\\n'\n",
      " 'This summary highlights the transition from Closed to Open LLMs, emphasizing '\n",
      " 'privacy, performance, and cost benefits of Open models.')\n"
     ]
    }
   ],
   "source": [
    "result = model[\"model_instance\"].predict(\n",
    "    \"\"\"Can you summarize this text?\n",
    "    \"\"\" + storage.get_input_from_article(articles[0], 'text_content')\n",
    ")\n",
    "pprint(result)"
   ]
  },
  {
   "cell_type": "code",
   "execution_count": null,
   "metadata": {},
   "outputs": [],
   "source": []
  },
  {
   "cell_type": "markdown",
   "metadata": {},
   "source": [
    "## Basic experiments"
   ]
  },
  {
   "cell_type": "code",
   "execution_count": null,
   "metadata": {},
   "outputs": [],
>>>>>>> dev
   "source": []
  }
 ],
 "metadata": {
  "language_info": {
   "name": "python"
  }
 },
 "nbformat": 4,
 "nbformat_minor": 2
}
