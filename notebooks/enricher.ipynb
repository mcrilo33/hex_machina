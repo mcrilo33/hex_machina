{
 "cells": [
  {
   "cell_type": "markdown",
   "metadata": {},
   "source": [
    "# 🔍 Enricher for TTD Newsletter\n",
    "\n",
    "This notebook is used to find, test, and evaluate enriching methods over articles."
   ]
  },
  {
   "cell_type": "code",
   "execution_count": 1,
   "metadata": {},
   "outputs": [],
   "source": [
    "import sys\n",
    "import os\n",
    "sys.path.append('../')\n",
    "from ttd.storage.ttd_storage import TTDStorage\n",
    "from dotenv import load_dotenv\n",
    "from ttd.config import load_config\n",
    "from ttd.scraper.utils import extract_domain\n",
    "from pprint import pprint\n",
    "from pathlib import Path\n",
    "from collections import Counter\n",
    "\n",
    "\n",
    "load_dotenv()\n",
    "OPEN_ROUTER_API_KEY = os.getenv(\"OPEN_ROUTER_API_KEY\")\n",
    "config = load_config()\n",
    "DB_PATH = '../' + config[\"db_path\"]"
   ]
  },
  {
   "cell_type": "code",
   "execution_count": 2,
   "metadata": {},
   "outputs": [],
   "source": [
    "# load storage and articles\n",
    "storage = TTDStorage(DB_PATH)\n",
    "articles = storage.get_all(\"articles\")"
   ]
  },
  {
   "cell_type": "markdown",
   "metadata": {},
   "source": [
    "## Scraped articles analysis"
   ]
  },
  {
   "cell_type": "code",
   "execution_count": 7,
   "metadata": {},
   "outputs": [
    {
     "data": {
      "text/plain": [
       "1199"
      ]
     },
     "execution_count": 7,
     "metadata": {},
     "output_type": "execute_result"
    }
   ],
   "source": [
    "len(articles)"
   ]
  },
  {
   "cell_type": "code",
   "execution_count": 72,
   "metadata": {},
   "outputs": [
    {
     "data": {
      "text/plain": [
       "{'title': 'Detecting walking speed with wireless signals',\n",
       " 'author': 'Anonymous',\n",
       " 'published_date': 'Mon, 01 May 2017 14:25:29 +0000',\n",
       " 'url_domain': 'csail.mit.edu',\n",
       " 'url': 'https://www.csail.mit.edu/news/detecting-walking-speed-wireless-signals',\n",
       " 'summary': 'Detecting walking speed with wireless signals Anonymous (not verified) Mon, 05/01/2017 - 10:25 \\nVideo\\nMay 01 \\'17\\nAdam Conner-Simons | Rachel Gordon\\nWe’ve long known that blood pressure, breathing, body temperature and pulse provide an important window into the complexities of human health. But a growing body of research suggests that another vital sign – how fast you walk – could be a better predictor of health issues like cognitive decline, falls, and even certain cardiac or pulmonary diseases.\\nWe’ve long known that blood pressure, breathing, body temperature and pulse provide an important window into the complexities of human health. But a growing body of research suggests that another vital sign –how fast you walk –could be a better predictor of health issues like cognitive decline, falls, and even certain cardiac or pulmonary diseases.\\nUnfortunately, it’s hard to accurately monitor walking speed in a way that’s both continuous and unobtrusive. Professor Dina Katabi’s group at MIT’s Computer Science and Artificial Intelligence Laboratory (CSAIL) has been working on the problem, and believes that the answer is to go wireless.\\nIn a new paper, the team presents “WiGait,” a device that can measure the walking speed of multiple people with 95 to 99 percent accuracy using wireless signals.\\nThe size of a small painting, the device can be placed on the wall of a person’s house and itssignals emit roughly one-hundredth the amount of radiation of a standard cellphone. It builds on Katabi’s previous work on WiTrack, which analyzes wireless signals reflected off people’s bodies to measure a range of behaviorsfrom breathing and falling to specific emotions.\\n“By using in-home sensors, we can see trends in how walking speed changes over longer periods of time,” says lead author and PhD student Chen-Yu Hsu. “This can provide insight into whether someone should adjust their health regimen, whether that’s doing physical therapy or altering their medications.”\\nWiGait is also 85 to 99 percent accurate at measuring a person’s stride length, which could allow researchers to better understand conditions like Parkinson’s disease that are characterized by reduced step size.\\nHsu and Katabi developed WiGait with CSAIL PhD student Zachary Kabelac and master’s student Rumen Hristov, alongside undergraduate Yuchen Liu from the Hong Kong University of Science and Technology, and Assistant Professor Christine Liu from the Boston University School of Medicine. The team will present their paper in May at ACM’s CHI Conference on Human Factors in Computing Systems in Colorado. \\nHow it works \\nToday, walking speed is measured by physical therapists or clinicians using a stopwatch. Wearables like FitBit can only roughly estimate speed based on step count, andGPS-enabled smartphones are similarly inaccurate and can’t work indoors. Cameras are intrusive and can only monitor one room. VICON motion tracking is the only method that’s comparably accurate to WiGate, but it is not widely available enough to be practical for monitoring day-to-day health changes.\\nMeanwhile, WiGait measures walking speed with a high level of granularity, without requiring that the person wear or carry a sensor. It does so by analyzing the surrounding wireless signals and their reflections off a person’s body. The CSAIL team’s algorithms can also distinguish walking from other movements, such as cleaning the kitchen or brushingone\\'s teeth.\\nKatabi saysthe device could help reveal a wealth of important health information, particularly for the elderly.Achange in walking speed, for example, could mean that the person has suffered an injury oris at an increased risk of falling. The system\\'s feedback could even help the person determine if they should move to a different environment such asan assisted-living home.\\n“Many avoidable hospitalizations are related to issues like falls, congestive heart disease, or chronic obstructive pulmonary disease, which have all been shown to be correlated to gait speed,” Katabi says. “Reducing the number of hospitalizations, even by a small amount, could vastly improve health care costs.”\\nThe team developed WiGait to be more privacy-minded than cameras, showing you as nothing more than a moving dot on a screen. In the future they hope to train it on people with walking impairments fromParkinson’s, Alzheimer’sor multiple sclerosis,to help physicians accurately track disease progression and adjust medications.\\n“The true novelty of this device is that it can map major metrics of health and behavior without any active engagement from the user, which is especially helpful for the cognitively impaired,” says Ipsit Vahia, a geriatric clinician at McLean Hospital and Harvard Medical School, who was not involved in the research. “Gait speed is a proxy indicator of many clinically important conditions, and down the line this could extend to measuring sleep patterns, respiratory rates, and other vital human behaviors.”\\nRelated\\nChen-Yu Hsu\\nDina Katabi\\nDepartment of Electrical Engineering and Computer Science\\nSchool of Engineering\\nMIT News: \"Detecting emotions with wireless signals\"\\nMIT News: \"How wireless “X-ray vision” could power virtual reality, smart homes…\\nMIT News: \"President Obama invites MIT entrepreneurs to give demo at the White …\\nMIT News: \"Could wireless replace wearables?\"\\nMIT News: \"New system allows for high-accuracy, through-wall, 3-D motion tracki…\\nPaper: \"Extracting Gait Velocity and Stride Length from Surrounding Radio \\nPress Mentions\\nBBC\\nGizmodo\\nFast Company\\nIEEE Spectrum \\nDigital Trends\\nBoston Magazine\\nComputerworld \\nThe Verge\\nYahoo\\nDaily Mail\\nNew Atlas \\nBGR\\nSD Times\\nElectronics360\\nMashable\\nTechCrunch\\nForbes',\n",
       " 'tags': [],\n",
       " 'html_content_length': 34486,\n",
       " 'text_content_length': 5691,\n",
       " 'summary_length': 5687,\n",
       " 'summary_text_ratio': 0.9992971358285011,\n",
       " 'created_at': '2025-04-04T11:22:35.478320',\n",
       " 'html_content_path': '/Users/mathieucrilout/Repos/train-tune-deploy/data/raw/2025/04/https%3A%2F%2Fwww.csail.mit.edu%2Fnews%2Fdetecting-walking-speed-wireless-signals_raw.html',\n",
       " 'text_content_path': '/Users/mathieucrilout/Repos/train-tune-deploy/data/raw/2025/04/https%3A%2F%2Fwww.csail.mit.edu%2Fnews%2Fdetecting-walking-speed-wireless-signals_extracted.txt',\n",
       " 'execution_time': 0}"
      ]
     },
     "execution_count": 72,
     "metadata": {},
     "output_type": "execute_result"
    }
   ],
   "source": [
    "articles[-1]"
   ]
  },
  {
   "cell_type": "code",
   "execution_count": 125,
   "metadata": {},
   "outputs": [
    {
     "name": "stdout",
     "output_type": "stream",
     "text": [
      "('We’re excited to announce Anyscale RayTurbo costs by up to 6x compared to '\n",
      " 'repurposed online inference providers such AWS Bedrock and OpenAI\\n'\n",
      " 'RayTurbo is focused on 4 broad workloads in the AI development lifecycle, '\n",
      " 'where each of these workloads have different characteristics and require '\n",
      " 'tailored optimizations.\\n'\n",
      " 'Data processing workloads: Modern AI workloads tend to interact with '\n",
      " 'significant amounts of unstructured data. Similar to other data processing '\n",
      " 'systems, these workloads tend to stress the underlying system’s memory '\n",
      " 'management, fault tolerance, and scalability capabilities. However, unlike '\n",
      " 'other data processing systems, AI workloads tend to require high utilization '\n",
      " 'of both CPU and GPU resources and heavily interact with numerical data types '\n",
      " 'like arrays and tensors.\\n'\n",
      " 'Ray Data such AWS Bedrock and OpenAI, without requiring high-end hardware '\n",
      " 'like A100s or H100s.\\n'\n",
      " 'Feature | Description \\n'\n",
      " '---|--- \\n'\n",
      " 'Fault Tolerance | Enables workers to resume across spot instances, taking '\n",
      " 'advantage of spot instance cost savings. \\n'\n",
      " 'Batch LLM Inference Optimizer | [In Private Preview] The Batch LLM Inference '\n",
      " 'optimizer automatically tunes and configures the underlying stack to reduce '\n",
      " 'costs based on workload characteristics and available hardware. \\n'\n",
      " 'Benchmarks\\n'\n",
      " '[RayLLM]( offers high performance and fully configurable online serving for '\n",
      " 'any open-sourced large language model as well as multi-modal models.\\n'\n",
      " 'Feature | Description \\n'\n",
      " '---|--- \\n'\n",
      " 'Efficient loading of fine-tuned LoRA modules. Leverages model multiplexing '\n",
      " 'in Ray Serve to minimize LoRA loading overhead, as well as vLLM support for '\n",
      " 'multi-LoRA inference to provide highly efficient dynamic LoRA serving. \\n'\n",
      " 'Enables JSON-formatted responses with schema validation, which are useful '\n",
      " 'when you want to integrate the LLM with other systems that expect a reliably '\n",
      " 'parsable output. It can also be used to implement tool calling. \\n'\n",
      " 'OpenAI APIs | Set up OpenAI compatible APIs allowing for easy migration from '\n",
      " 'closed source models and compatibility with other LLM development '\n",
      " 'frameworks. It also supports deploying and individually scaling multiple '\n",
      " 'models behind the same service endpoint. \\n'\n",
      " 'Performance Tuning | Knobs to configure price and performance tradeoff of '\n",
      " 'deployed models, with features such as tensor parallelism, speculative '\n",
      " 'decoding, prefix caching, etc. Auto-performance tuning coming soon. \\n'\n",
      " '[RayTurbo]( aims to provide the best price-performance and developer '\n",
      " 'capabilities for AI workloads compared with other solutions including '\n",
      " 'running Ray in open source. RayTurbo is available on Anyscale exclusively.\\n'\n",
      " 'Get started on the Anyscale platform for free today at <')\n"
     ]
    }
   ],
   "source": [
    "pprint(storage.get_input_from_article(articles[-1], \"text_content\"))"
   ]
  },
  {
   "cell_type": "code",
   "execution_count": 73,
   "metadata": {},
   "outputs": [
    {
     "name": "stdout",
     "output_type": "stream",
     "text": [
      "There are 31 non-empty domains.\n",
      "\n",
      "📄 Checking Regular RSS Feeds:\n",
      "[✅] Found: aws.amazon.com (51 article(s))\n",
      "[✅] Found: quantamagazine.org (5 article(s))\n",
      "[✅] Found: eugeneyan.com (194 article(s))\n",
      "[✅] Found: huyenchip.com (10 article(s))\n",
      "[✅] Found: marktechpost.com (9 article(s))\n",
      "[✅] Found: theverge.com (10 article(s))\n",
      "[✅] Found: techcrunch.com (19 article(s))\n",
      "[✅] Found: arstechnica.com (20 article(s))\n",
      "[✅] Found: theguardian.com (132 article(s))\n",
      "[✅] Found: zdnet.com (17 article(s))\n",
      "[✅] Found: siliconangle.com (30 article(s))\n",
      "[✅] Found: analyticsindiamag.com (30 article(s))\n",
      "[✅] Found: venturebeat.com (28 article(s))\n",
      "[✅] Found: blogs.nvidia.com (18 article(s))\n",
      "[✅] Found: dagster.io (210 article(s))\n",
      "[✅] Found: philschmid.de (157 article(s))\n",
      "[✅] Found: thegradient.pub (15 article(s))\n",
      "[✅] Found: towardsdatascience.com (9 article(s))\n",
      "[✅] Found: thenextweb.com (10 article(s))\n",
      "[✅] Found: syncedreview.com (10 article(s))\n",
      "[✅] Found: techrepublic.com (20 article(s))\n",
      "[✅] Found: pyimagesearch.com (9 article(s))\n",
      "[✅] Found: snorkel.ai (97 article(s))\n",
      "[✅] Found: neptune.ai (12 article(s))\n",
      "[✅] Found: arize.com (10 article(s))\n",
      "[✅] Found: github.blog (10 article(s))\n",
      "[✅] Found: csail.mit.edu (9 article(s))\n",
      "\n",
      "📄 Checking Stealth RSS Feeds:\n",
      "[✅] Found: eetimes.com (10 article(s))\n",
      "[✅] Found: anyscale.com (18 article(s))\n",
      "[✅] Found: kdnuggets.com (10 article(s))\n",
      "[✅] Found: machinelearningmastery.com (10 article(s))\n"
     ]
    }
   ],
   "source": [
    "def print_domain_matches(rss_file_path: Path, domain_counts: Counter, label: str = \"\"):\n",
    "    print(f\"\\n📄 Checking {label or rss_file_path.name}:\")\n",
    "    with rss_file_path.open(\"r\") as file:\n",
    "        for line in file:\n",
    "            url = line.strip()\n",
    "            if not url:\n",
    "                continue\n",
    "            domain = extract_domain(url)\n",
    "            count = domain_counts.get(domain, 0)\n",
    "            if count > 0:\n",
    "                print(f\"[✅] Found: {domain} ({count} article(s))\")\n",
    "            else:\n",
    "                print(f\"[❌] Not found: {domain}\")\n",
    "\n",
    "# Step 1: Count article domains\n",
    "domains = [article['url_domain'] for article in articles if article.get('url_domain')]\n",
    "domain_counts = Counter(domains)\n",
    "print(\"There are\", len(domain_counts), \"non-empty domains.\")\n",
    "\n",
    "# Step 2: Paths to RSS files\n",
    "rss_files = {\n",
    "    \"Regular RSS Feeds\": Path(\"../data/rss_feeds.txt\"),\n",
    "    \"Stealth RSS Feeds\": Path(\"../data/rss_feeds_stealth.txt\")\n",
    "}\n",
    "\n",
    "# Step 3: Check both files\n",
    "for label, path in rss_files.items():\n",
    "    print_domain_matches(path, domain_counts, label=label)"
   ]
  },
  {
   "cell_type": "code",
   "execution_count": 74,
   "metadata": {},
   "outputs": [
    {
     "name": "stdout",
     "output_type": "stream",
     "text": [
      "\n",
      "📊 Field Coverage Report (1199 articles):\n",
      "\n",
      "author               :  588 / 1199 (49.0%)\n",
      "created_at           : 1199 / 1199 (100.0%)\n",
      "execution_time       : 1199 / 1199 (100.0%)\n",
      "html_content_length  : 1199 / 1199 (100.0%)\n",
      "html_content_path    : 1199 / 1199 (100.0%)\n",
      "published_date       : 1199 / 1199 (100.0%)\n",
      "summary              : 1182 / 1199 (98.6%)\n",
      "summary_length       : 1199 / 1199 (100.0%)\n",
      "summary_text_ratio   : 1199 / 1199 (100.0%)\n",
      "tags                 :  561 / 1199 (46.8%)\n",
      "text_content_length  : 1199 / 1199 (100.0%)\n",
      "text_content_path    : 1199 / 1199 (100.0%)\n",
      "title                : 1199 / 1199 (100.0%)\n",
      "url                  : 1199 / 1199 (100.0%)\n",
      "url_domain           : 1199 / 1199 (100.0%)\n"
     ]
    }
   ],
   "source": [
    "from collections import Counter\n",
    "\n",
    "def print_field_coverage(articles):\n",
    "    total = len(articles)\n",
    "    if total == 0:\n",
    "        print(\"No articles to process.\")\n",
    "        return\n",
    "\n",
    "    field_counts = Counter()\n",
    "\n",
    "    for article in articles:\n",
    "        for field, value in article.items():\n",
    "            if value not in (None, '', [], {}):\n",
    "                field_counts[field] += 1\n",
    "\n",
    "    print(f\"\\n📊 Field Coverage Report ({total} articles):\\n\")\n",
    "    for field in sorted(field_counts):\n",
    "        count = field_counts[field]\n",
    "        percent = (count / total) * 100\n",
    "        print(f\"{field:20} : {count:4} / {total} ({percent:.1f}%)\")\n",
    "\n",
    "# Example usage\n",
    "print_field_coverage(articles)"
   ]
  },
  {
   "cell_type": "markdown",
   "metadata": {},
   "source": [
    "## Model Lifecycle"
   ]
  },
  {
   "cell_type": "code",
   "execution_count": null,
   "metadata": {},
   "outputs": [],
   "source": [
    "# test model lifecycle\n",
    "SUMMARY_PROMPT = '''You are a professional summarizer in an automated newsletter system.\n",
    "\n",
    "Your task is to summarize the following article in **fewer than 250 words**. The summary must be **as concise and information-dense as possible**, while preserving all **essential facts, arguments, conclusions, and relevant keywords**.\n",
    "\n",
    "Avoid: redundancy, filler phrases, vague language, or speculative commentary.  \n",
    "Do: use clear, direct language and complete sentences. Maintain a **neutral and factual tone**.\n",
    "\n",
    "ARTICLE: \"\"\"\n",
    "{text_content}\n",
    "\"\"\"\n",
    "'''\n",
    "model = {\n",
    "    \"name\": \"deepseek-r1-distill-qwen-32b:free\",\n",
    "    \"version\": \"2025-01-29\",\n",
    "    \"input_format\": \"text_content\",\n",
    "    \"output_format\": \"summary\",\n",
    "    \"config\": {\n",
    "        \"openai\": {\n",
    "            \"base_url\": \"https://openrouter.ai/api/v1\",\n",
    "            \"model\": \"deepseek/deepseek-r1-distill-qwen-32b:free\",\n",
    "            \"api_key_env_var\": \"OPEN_ROUTER_API_KEY\",\n",
    "            \"template\": SUMMARY_PROMPT,\n",
    "            \"temperature\": 0,\n",
    "            \"max_tokens\": 1000,\n",
    "            \"n\": 1\n",
    "        }\n",
    "    }\n",
    "}\n",
    "storage.save_model(model)"
   ]
  },
  {
   "cell_type": "code",
   "execution_count": 24,
   "metadata": {},
   "outputs": [],
   "source": [
    "model_dict = storage.get_model_by_name(\"deepseek-r1-distill-qwen-32b:free\")\n",
    "model_dict[\"config\"][\"openai\"][\"model\"] = \"deepseek/deepseek-r1-distill-qwen-32b:free\"\n",
    "model_dict[\"input_format\"] = \"text_content\"\n",
    "model_dict[\"max_tokens\"] = 1000\n",
    "storage.update_model(model_dict)\n",
    "storage.delete_field_from_table(\"models\", \"task_type\")"
   ]
  },
  {
   "cell_type": "code",
   "execution_count": 8,
   "metadata": {},
   "outputs": [
    {
     "name": "stdout",
     "output_type": "stream",
     "text": [
      "{'config': {'openai': {'api_key_env_var': 'OPEN_ROUTER_API_KEY',\n",
      "                       'base_url': 'https://openrouter.ai/api/v1',\n",
      "                       'max_tokens': 500,\n",
      "                       'model': 'deepseek/deepseek-r1-distill-qwen-32b:free',\n",
      "                       'n': 1,\n",
      "                       'temperature': 0,\n",
      "                       'template': 'You are a professional summarizer in an '\n",
      "                                   'automated newsletter system.\\n'\n",
      "                                   '\\n'\n",
      "                                   'Your task is to summarize the following '\n",
      "                                   'article in **fewer than 250 words**. The '\n",
      "                                   'summary must be **as concise and '\n",
      "                                   'information-dense as possible**, while '\n",
      "                                   'preserving all **essential facts, '\n",
      "                                   'arguments, conclusions, and relevant '\n",
      "                                   'keywords**.\\n'\n",
      "                                   '\\n'\n",
      "                                   'Avoid: redundancy, filler phrases, vague '\n",
      "                                   'language, or speculative commentary.  \\n'\n",
      "                                   'Do: use clear, direct language and '\n",
      "                                   'complete sentences. Maintain a **neutral '\n",
      "                                   'and factual tone**.\\n'\n",
      "                                   '\\n'\n",
      "                                   'ARTICLE: \"\"\"\\n'\n",
      "                                   '{text_content}\\n'\n",
      "                                   '\"\"\"\\n'}},\n",
      " 'created_at': '2025-04-04T12:23:21.032355',\n",
      " 'input_format': 'text_content',\n",
      " 'last_updated': '2025-04-04T12:36:51.902796',\n",
      " 'max_tokens': 1000,\n",
      " 'name': 'deepseek-r1-distill-qwen-32b:free',\n",
      " 'output_format': 'summary',\n",
      " 'version': '2025-01-29'}\n"
     ]
    }
   ],
   "source": [
    "model_dict = storage.get_model_by_name(\"deepseek-r1-distill-qwen-32b:free\")\n",
    "pprint(model_dict)"
   ]
  },
  {
   "cell_type": "code",
   "execution_count": 3,
   "metadata": {},
   "outputs": [
    {
     "data": {
      "text/plain": [
       "{'name': 'deepseek-r1-distill-qwen-32b:free',\n",
       " 'version': '2025-01-29',\n",
       " 'input_format': 'text_content',\n",
       " 'output_format': 'summary',\n",
       " 'config': {'openai': {'temperature': 0, 'max_tokens': 500, 'n': 1}},\n",
       " 'created_at': '2025-04-04T12:23:21.032355',\n",
       " 'last_updated': '2025-04-04T12:36:51.902796',\n",
       " 'max_tokens': 1000,\n",
       " 'model_instance': <ttd.storage.model_manager.OpenAIModel at 0x1039ceda0>}"
      ]
     },
     "execution_count": 3,
     "metadata": {},
     "output_type": "execute_result"
    }
   ],
   "source": [
    "model = storage.load_model_by_name(\"deepseek-r1-distill-qwen-32b:free\")\n",
    "model"
   ]
  },
  {
   "cell_type": "code",
   "execution_count": 4,
   "metadata": {},
   "outputs": [
    {
     "data": {
      "text/plain": [
       "'You are a professional summarizer in an automated newsletter system.\\n\\nYour task is to summarize the following article in **fewer than 250 words**. The summary must be **as concise and information-dense as possible**, while preserving all **essential facts, arguments, conclusions, and relevant keywords**.\\n\\nAvoid: redundancy, filler phrases, vague language, or speculative commentary.  \\nDo: use clear, direct language and complete sentences. Maintain a **neutral and factual tone**.\\n\\nARTICLE: \"\"\"\\ndesignLines AI & Big Data Designline\\nTrump Tariffs Unleash Shift in Global Economy\\nEconomists warn could yield higher prices, retaliation, and limited economic gains\\nBy Pablo Valerio 04.03.2025 __ 0\\n__ Share Post\\n__ Share on Facebook\\n__ Share on Twitter\\n__\\nIn a move signaling a decisive shift in global economic policy, under the International Emergency Economic Powers Act of 1977, United States President Donald Trump has implemented sweeping new tariffs on imports, ushering in what he termed a “Liberation Day” for the American economy.\\nAnnounced yesterday, these measures include a baseline tariff applied universally alongside higher, “reciprocal” duties targeting nations deemed to have engaged in unfair trade practices.\\nThis broadside against the established international trade order has ignited concerns worldwide regarding its potential ramifications for economic growth, consumer prices, and the intricate web of global supply chains, particularly within the electronics sector.\\nDawn of protectionism\\nThe newly imposed tariff regime, which will take effect\\non April 5\\n, comprises a 10% levy on imports from all countries.\\nPartner Content\\nView All __\\nGUC Announces Tape-Out of the World’s First HBM4 IP on TSMC N3P\\nGUC Announces Tape-Out of the World’s First HBM4 IP on TSMC N3P\\nBy Global Unichip Corp. (GUC) 04.02.2025\\nBridging IoT Gaps: Nessum’s Next-gen Wired Communication Technology\\nBridging IoT Gaps: Nessum’s Next-gen Wired Communication Technology\\nBy Nessum by Panasonic 03.28.2025\\nReducing Vehicle Sensor Design Complexity and Cost with a Single-Chip LIN 8-bit MCU\\nReducing Vehicle Sensor Design Complexity and Cost with a Single-Chip LIN 8-bit MCU\\nBy Herbe Chun, MCU Application Engineer, Lumissil Microsystems 03.24.2025\\nComplementing this universal duty are higher reciprocal tariffs, ranging from 10% to 50%, applied to imports from 60 nations identified as having the most significant trade deficits with the United States.\\nThese targeted tariffs are calculated based on the White House Council of Economic Advisers’ assessment of the total tariffs and non-tariff barriers these countries impose on American goods.\\nAmong the most significant reciprocal tariffs is the 34% duty levied on goods from China, which, when combined with existing tariffs, raises the total levy on Chinese imports to at least 54%.\\nTrump Tariffs Unleash Shift in Global Economy_Foxconn Server Factory in Zhengzhou (China) (Source: Foxconn)_\\nPresident Trump justified these actions by asserting that they would correct years of “unfair” trade practices and prevent other countries from “ripping off” the U.S. Speaking from the White House, he stated, “We’re going to be charging a discounted reciprocal tariff of 34%” on China.\\nHe further explained that the calculations reflected “a combined rate of all their tariffs, non-monetary barriers and other forms of cheating,” with China allegedly charging tariffs of 67% to the U.S. This figure included the effects of currency manipulation and trade barriers.\\nAnticipating the consequences\\nThe announcement of these tariffs triggered considerable apprehension regarding their potential to destabilize the global economy. Ursula von der Leyen, president of the European Commission, stated that the global economy would “massively suffer” from the U.S. moves. “Millions of citizens will face higher grocery bills. Medication will cost more as well as transportation, [and] inflation will go up.”\\n_Ursula von der Leyen (Source: European Commission)_\\nVon der Leyen emphasized that “reaching for tariffs as your first and last tool will not fix” problems in the global trade system and cautioned that the tariffs would “hurt consumers around the world.”\\nThe EU has also indicated its readiness to retaliate against the 20% tariff imposed on the bloc, granting a four-week negotiation window before considering further action.\\nPredictably, many affected nations have vowed to respond. China has condemned the tariffs as “an act of bullying” and asserted that it would take “resolute countermeasures to safeguard its legitimate rights and interests.” The Chinese foreign ministry spokesman, Guo Jiakun, stated, “Trade and tariff wars have no winners, and protectionism leads nowhere.”\\nConcerns rise about the prospect of shrinking world trade and a slowdown in economic growth, which could lead to recessionary pressures.\\nRichard Fontaine, president of the Center for a New American Security, warned, “If you impose tariffs on one country, like China, at least you have other markets available to you. If you impose them on everyone, then you have only your own market to rely on”. He further added that historically, countries pursuing such policies have “usually ended up giving themselves lower economic growth, lower employment, higher prices, less quality.”\\nTariffs might fall short for the U.S.\\nDespite the Trump administration’s aims, the effectiveness of these tariffs in revitalizing the American economy and rectifying trade imbalances is far from certain.\\nCritics argue that tariffs are taxes on domestic consumers and businesses, leading to higher prices for imported goods and potentially domestically produced goods as competition shrinks.\\nThe editorial board of the Wall Street Journal noted that President Trump is making a “deliberate decision to transfer wealth from consumers to businesses and workers protected from competition behind high tariff walls.” Over time, this shielding from global competition could lead to a “gradual erosion of U.S. competitiveness” by blunting the incentive to innovate and improve efficiency.\\nThe Economist went further, calling it “Ruination Day.” “Donald Trump announced the biggest break in America’s trade policy in over a century and committed the most profound, harmful, and unnecessary economic error in the modern era.”\\nFurthermore, the imposition of unilateral tariffs risks triggering retaliatory measures from trading partners, which would harm American exports. As the WSJ editorial pointed out, “U.S. exports will suffer directly from retaliatory tariffs. And they will suffer indirectly as other countries strike trade deals that give preferential treatment to non-U.S. firms”.\\nThe experience with previous tariffs imposed by the Trump administration supports this concern, as countries like Brazil saw a “soybean bonanza” after tariffs on Chinese imports created an alternative market.\\nDisrupting the electronics global supply chains\\nThe electronics market, characterized by highly intricate and globally dispersed supply chains, stands to be particularly affected by these new tariffs.\\nMany electronic products rely on components manufactured in various countries, with final assembly often occurring in nations with cost advantages, such as China and Southeast Asian countries like Vietnam and Cambodia, which face substantial reciprocal tariffs of 46% and 49%, respectively.\\nThe increased cost of imported components due to the tariffs will likely translate into higher prices for electronic goods sold to American consumers. It could impact the competitiveness of U.S.-based electronics manufacturers that rely on these global supply chains.\\nWhile some sectors, like semiconductors, have been reportedly exempted from the reciprocal tariffs, the broader disruption to the flow of electronic components and finished goods creates significant challenges. Companies may be compelled to reconsider their sourcing and production strategies, potentially leading to costly and time-consuming adjustments to their supply chains.\\n“Shifting things around is going to be quite complicated. That process will be slow, expensive and challenging,” argued Derrick Kam, Asia economist at Morgan Stanley.\\nWhile President Trump hopes these tariffs will incentivize companies to return production to the U.S., re-establishing domestic complex manufacturing ecosystems is daunting.\\n“You can’t just put on tariffs and flip a switch, and all of a sudden, America is an industrial nation again,” Dan Digre, president and chief executive of Misco Speakers, noted, highlighting the dependence of even U.S.-based manufacturers on global supply chains for essential components.\\nUncertain future of global trade\\nPresident Trump’s new tariff policies significantly depart from decades of U.S. support for globalization, heralding a new trade era characterized by protectionist measures.\\n“Trump’s new tariff onslaught is giving China another opening to use its large market to court American allies,” argued the Wall Street Journal editorial board. “South Korea and Japan are the first targets, but Europe is on China’s list.”\\nWhile the administration asserts that these actions are necessary to protect American interests and rectify unfair trade practices, the potential for widespread economic disruption and retaliatory actions looms large.\\nThe impact on sectors like electronics, with their deeply embedded global supply chains, underscores the complexity and interconnectedness of the modern international economy.\\nAs the world grapples with these new trade barriers, the long-term consequences for global growth, consumer welfare, and the structure of international commerce remain highly uncertain.\\nRELATED TOPICS: GLOBAL TRADE, SUPPLY CHAIN DISRUPTIONS, TARIFFS, TRUMP ADMINISTRATION\\nShare this:\\nTwitter\\nFacebook\\nLinkedIn\\nPablo Valerio\\n_Pablo is a seasoned engineer with 30+ years of experience. For over 10 years, he\\'s been a contributing editor for EE Times (where he edits the Supply Chain section). He also wrote for EPSNews, InformationWeek, EBN, LightReading, Network Computing, and IEEE Xplore. His coverage spans Supply Chain, Semiconductors, Networks, IoT, Security, and Smart Cities. He holds an MEng, Electrical and Electronics Engineering from The Ohio State University._ Follow Pablo on LinkedIn\\n0 comments\\nPost Comment __\\nLeave a Reply Cancel reply\\nYou must Register or Login to post a comment.\\nThis site uses Akismet to reduce spam. Learn how your comment data is processed.\\n\"\"\"\\n'"
      ]
     },
     "execution_count": 4,
     "metadata": {},
     "output_type": "execute_result"
    }
   ],
   "source": [
    "input = {\n",
    "    \"text_content\": storage.from_article_get_text(articles[0])\n",
    "}\n",
    "model[\"model_instance\"].template(**input)"
   ]
  },
  {
   "cell_type": "code",
   "execution_count": 5,
   "metadata": {},
   "outputs": [
    {
     "data": {
      "text/plain": [
       "{'output': 'President Trump has imposed new tariffs on imports, including a 10% universal tariff and higher reciprocal tariffs on 60 countries, notably a 34% rate on China, aiming to correct perceived trade imbalances. Economists and global leaders, such as Ursula von der Leyen and Guo Jiakun, warn of higher consumer prices, potential retaliation, and harm to the global economy. The tariffs could disrupt intricate supply chains, particularly in electronics, forcing companies to adjust their sourcing strategies at significant cost. Critics argue the measures may not revitalize the US economy and',\n",
       " 'prompt_tokens': 2633,\n",
       " 'completion_tokens': 500,\n",
       " 'total_tokens': 3133}"
      ]
     },
     "execution_count": 5,
     "metadata": {},
     "output_type": "execute_result"
    }
   ],
   "source": [
    "model[\"model_instance\"].predict(input)"
   ]
  },
  {
   "cell_type": "code",
   "execution_count": 6,
   "metadata": {},
   "outputs": [],
   "source": [
    "predictions = storage.run_model_on_articles(model, articles[:2], save=False)"
   ]
  },
  {
   "cell_type": "code",
   "execution_count": 6,
   "metadata": {},
   "outputs": [
    {
     "name": "stdout",
     "output_type": "stream",
     "text": [
      "{'config': {'openai': {'api_key_env_var': 'OPEN_ROUTER_API_KEY',\n",
      "                       'base_url': 'https://openrouter.ai/api/v1',\n",
      "                       'max_tokens': 500,\n",
      "                       'model': 'deepseek/deepseek-r1-distill-qwen-32b:free',\n",
      "                       'n': 1,\n",
      "                       'temperature': 0,\n",
      "                       'template': 'You are a professional summarizer in an '\n",
      "                                   'automated newsletter system.\\n'\n",
      "                                   '\\n'\n",
      "                                   'Your task is to summarize the following '\n",
      "                                   'article in **fewer than 250 words**. The '\n",
      "                                   'summary must be **as concise and '\n",
      "                                   'information-dense as possible**, while '\n",
      "                                   'preserving all **essential facts, '\n",
      "                                   'arguments, conclusions, and relevant '\n",
      "                                   'keywords**.\\n'\n",
      "                                   '\\n'\n",
      "                                   'Avoid: redundancy, filler phrases, vague '\n",
      "                                   'language, or speculative commentary.  \\n'\n",
      "                                   'Do: use clear, direct language and '\n",
      "                                   'complete sentences. Maintain a **neutral '\n",
      "                                   'and factual tone**.\\n'\n",
      "                                   '\\n'\n",
      "                                   'ARTICLE: \"\"\"\\n'\n",
      "                                   '{text_content}\\n'\n",
      "                                   '\"\"\"\\n'}},\n",
      " 'created_at': '2025-04-04T12:23:21.032355',\n",
      " 'input_format': 'text_content',\n",
      " 'last_updated': '2025-04-04T12:36:51.902796',\n",
      " 'max_tokens': 1000,\n",
      " 'name': 'deepseek-r1-distill-qwen-32b:free',\n",
      " 'output_format': 'summary',\n",
      " 'version': '2025-01-29'}\n"
     ]
    }
   ],
   "source": [
    "model = storage.get_by_field(\"models\", \"name\", \"deepseek-r1-distill-qwen-32b:free\")\n",
    "pprint(model)"
   ]
  },
  {
   "cell_type": "code",
   "execution_count": 4,
   "metadata": {},
   "outputs": [
    {
     "ename": "SyntaxError",
     "evalue": "expected ':' (pipeline.py, line 33)",
     "output_type": "error",
     "traceback": [
      "Traceback \u001b[0;36m(most recent call last)\u001b[0m:\n",
      "\u001b[0m  File \u001b[1;32m~/.miniconda3/envs/ttd/lib/python3.10/site-packages/IPython/core/interactiveshell.py:3577\u001b[0m in \u001b[1;35mrun_code\u001b[0m\n    exec(code_obj, self.user_global_ns, self.user_ns)\u001b[0m\n",
      "\u001b[0m  Cell \u001b[1;32mIn[4], line 1\u001b[0m\n    from ttd.enricher.pipeline import Pipe\u001b[0m\n",
      "\u001b[0;36m  File \u001b[0;32m~/Repos/train-tune-deploy/notebooks/../ttd/enricher/__init__.py:5\u001b[0;36m\n\u001b[0;31m    from .pipeline import Pipe\u001b[0;36m\n",
      "\u001b[0;36m  File \u001b[0;32m~/Repos/train-tune-deploy/notebooks/../ttd/enricher/pipeline.py:33\u001b[0;36m\u001b[0m\n\u001b[0;31m    if obj_field in obj\u001b[0m\n\u001b[0m                       ^\u001b[0m\n\u001b[0;31mSyntaxError\u001b[0m\u001b[0;31m:\u001b[0m expected ':'\n"
     ]
    }
   ],
   "source": [
    "from ttd.enricher.pipeline import Pipe\n",
    "\n",
    "model = storage.load_model_by_name(\"deepseek-r1-distill-qwen-32b:free\")\n",
    "Queries = [\n",
    "    (\"article\", map(lambda x: storage.load('text_content', x), query1))\n",
    "]\n",
    "\n",
    "pipe = Pipe(\n",
    "    \"article\",\n",
    "    Queries,\n",
    "    model,\n",
    "    storage\n",
    ")"
   ]
  },
  {
   "cell_type": "code",
   "execution_count": 7,
   "metadata": {},
   "outputs": [
    {
     "data": {
      "text/plain": [
       "[{'article_id': 1,\n",
       "  'model_id': 1,\n",
       "  'task_type': 'summary',\n",
       "  'created_at': '2025-04-04T12:57:11.973223',\n",
       "  'execution_time': 4,\n",
       "  'output': '',\n",
       "  'prompt_tokens': 2633,\n",
       "  'completion_tokens': 500,\n",
       "  'total_tokens': 3133},\n",
       " {'article_id': 2,\n",
       "  'model_id': 1,\n",
       "  'task_type': 'summary',\n",
       "  'created_at': '2025-04-04T12:57:16.629567',\n",
       "  'execution_time': 4,\n",
       "  'output': '',\n",
       "  'prompt_tokens': 1810,\n",
       "  'completion_tokens': 500,\n",
       "  'total_tokens': 2310}]"
      ]
     },
     "execution_count": 7,
     "metadata": {},
     "output_type": "execute_result"
    }
   ],
   "source": [
    "predictions"
   ]
  },
  {
   "cell_type": "code",
   "execution_count": 13,
   "metadata": {},
   "outputs": [
    {
     "data": {
      "text/plain": [
       "{'title': 'Trump Tariffs Unleash Shift in Global Economy',\n",
       " 'author': 'Pablo Valerio',\n",
       " 'published_date': 'Thu, 03 Apr 2025 18:00:00 +0000',\n",
       " 'url_domain': 'eetimes.com',\n",
       " 'url': 'https://www.eetimes.com/trump-tariffs-unleash-shift-in-global-economy/',\n",
       " 'summary': 'Trump tariffs, now 54% on Chinese goods, threaten to raise electronics prices. Complex supply chains face disruption, despite some exemptions. The post Trump Tariffs Unleash Shift in Global Economy appeared first on EE Times.',\n",
       " 'tags': ['News',\n",
       "  'Supply Chain & Distribution',\n",
       "  'Supply Chain Analysis',\n",
       "  'Global Trade',\n",
       "  'supply chain disruptions',\n",
       "  'Tariffs',\n",
       "  'Trump administration'],\n",
       " 'html_content_length': 358447,\n",
       " 'text_content_length': 9980,\n",
       " 'summary_length': 225,\n",
       " 'summary_text_ratio': 0.022545090180360723,\n",
       " 'created_at': '2025-04-04T10:07:39.515222',\n",
       " 'html_content_path': '/Users/mathieucrilout/Repos/train-tune-deploy/data/raw/2025/04/https%3A%2F%2Fwww.eetimes.com%2Ftrump-tariffs-unleash-shift-in-global-economy%2F_raw.html',\n",
       " 'text_content_path': '/Users/mathieucrilout/Repos/train-tune-deploy/data/raw/2025/04/https%3A%2F%2Fwww.eetimes.com%2Ftrump-tariffs-unleash-shift-in-global-economy%2F_extracted.txt',\n",
       " 'execution_time': 0}"
      ]
     },
     "execution_count": 13,
     "metadata": {},
     "output_type": "execute_result"
    }
   ],
   "source": [
    "articles[0]"
   ]
  },
  {
   "cell_type": "code",
   "execution_count": 17,
   "metadata": {},
   "outputs": [
    {
     "data": {
      "text/plain": [
       "'Trump tariffs, now 54% on Chinese goods, threaten to raise electronics prices. Complex supply chains face disruption, despite some exemptions. The post Trump Tariffs Unleash Shift in Global Economy appeared first on EE Times.'"
      ]
     },
     "execution_count": 17,
     "metadata": {},
     "output_type": "execute_result"
    }
   ],
   "source": [
    "articles[0]['summary']"
   ]
  },
  {
   "cell_type": "code",
   "execution_count": 8,
   "metadata": {},
   "outputs": [
    {
     "name": "stdout",
     "output_type": "stream",
     "text": [
      "('The text discusses the evolution and comparison of Open and Closed Large '\n",
      " 'Language Models (LLMs) with a focus on privacy implications during '\n",
      " \"fine-tuning. Here's a structured summary:\\n\"\n",
      " '\\n'\n",
      " '1. **Dominance and Progress**:\\n'\n",
      " '   - Closed LLMs, like GPT-4 and Claude, have been dominant since 2022 due '\n",
      " 'to their performance and versatility.\\n'\n",
      " '   - Open LLMs, such as Llama 3 and DeepSeek-R1, have made significant '\n",
      " 'strides, surpassing some Closed models in tasks like coding and '\n",
      " 'summarization.\\n'\n",
      " '\\n'\n",
      " '2. **Privacy Focus**:\\n'\n",
      " '   - The paper emphasizes privacy concerns when adapting LLMs to sensitive '\n",
      " 'data, comparing Open and Closed models.\\n'\n",
      " '\\n'\n",
      " '3. **Threat Models for Closed LLMs**:\\n'\n",
      " '   - Three main risks: data exposure to providers, query exposure, and '\n",
      " 'potential data extraction by malicious users.\\n'\n",
      " '   - Open LLMs mitigate these risks by allowing local control, eliminating '\n",
      " 'third-party involvement.\\n'\n",
      " '\\n'\n",
      " '4. **Private Adaptation Methods**:\\n'\n",
      " '   - **Closed LLMs**: Use methods like prompt-based learning and in-context '\n",
      " 'learning with Differential Privacy (DP). However, except for DP-OPT, these '\n",
      " 'methods leak training data to providers.\\n'\n",
      " '   - **Open LLMs**: Utilize parameter-based methods (e.g., DPSGD, '\n",
      " 'PrivateLoRA, DP-FineTune) which offer better privacy, performance, and '\n",
      " 'cost-effectiveness.\\n'\n",
      " '\\n'\n",
      " '5. **Findings and Conclusion**:\\n'\n",
      " '   - Open LLMs provide superior privacy, performance, and cost savings. For '\n",
      " 'example, tasks cost $30 for Open vs. $140 for Closed models.\\n'\n",
      " '   - Conclusion: Open LLMs are recommended for private adaptation due to '\n",
      " 'their robust privacy, efficiency, and flexibility.\\n'\n",
      " '\\n'\n",
      " 'This summary highlights the transition from Closed to Open LLMs, emphasizing '\n",
      " 'privacy, performance, and cost benefits of Open models.')\n"
     ]
    }
   ],
   "source": [
    "result = model[\"model_instance\"].predict(\n",
    "    \"\"\"Can you summarize this text?\n",
    "    \"\"\" + storage.get_input_from_article(articles[0], 'text_content')\n",
    ")\n",
    "pprint(result)"
   ]
  },
  {
   "cell_type": "markdown",
   "metadata": {},
   "source": [
    "## Summary Analysis"
   ]
  },
  {
   "cell_type": "code",
   "execution_count": 82,
   "metadata": {},
   "outputs": [
    {
     "name": "stdout",
     "output_type": "stream",
     "text": [
      "\n",
      "📊 Comparison of Content Sizes (top 50 by html_content length):\n",
      "URL                                                |   HTML |   Text |  Summary\n",
      "--------------------------------------------------------------------------------\n",
      "https://www.theguardian.com/news/audio/2025/apr/03 | 296373 |   1169 |      867\n",
      "https://www.theguardian.com/info/2016/sep/02/sign- | 248133 |    684 |      483\n",
      "https://www.theguardian.com/environment/video/2025 | 392825 |    784 |      537\n",
      "https://www.theguardian.com/world/video/2025/mar/0 | 289850 |   1187 |      805\n",
      "https://www.theguardian.com/world/video/2025/mar/3 | 282707 |    975 |      661\n",
      "https://www.theguardian.com/us-news/video/2025/apr | 291016 |    879 |      584\n",
      "https://www.theguardian.com/global/2022/sep/20/sig | 258005 |    728 |      474\n",
      "https://www.theguardian.com/us-news/video/2025/mar | 281361 |   1071 |      696\n",
      "https://www.theguardian.com/world/video/2025/mar/0 | 281855 |    777 |      502\n",
      "https://www.theguardian.com/environment/video/2025 | 283343 |    898 |      577\n",
      "https://www.theguardian.com/politics/audio/2025/ap | 309911 |   1341 |      828\n",
      "https://www.theguardian.com/global/2022/oct/12/sig | 259886 |    810 |      494\n",
      "https://www.theguardian.com/society/video/2025/mar | 288892 |   1260 |      763\n",
      "https://www.theguardian.com/world/video/2025/feb/2 | 288054 |    811 |      489\n",
      "https://www.theguardian.com/world/video/2025/mar/1 | 286908 |   1302 |      760\n",
      "https://www.theguardian.com/environment/video/2025 | 308741 |    794 |      453\n",
      "https://www.theguardian.com/world/video/2025/mar/1 | 293981 |   1024 |      583\n",
      "https://www.theguardian.com/world/video/2025/apr/0 | 292037 |   1268 |      704\n",
      "https://github.blog/open-source/world-water-day-ho | 153967 |    535 |      278\n",
      "https://www.theguardian.com/world/video/2025/mar/0 | 281329 |    753 |      375\n",
      "https://www.theguardian.com/world/2025/apr/04/abor | 292221 |   1204 |      545\n",
      "https://github.blog/security/application-security/ | 170870 |   1104 |      474\n",
      "https://www.theguardian.com/uk-news/video/2025/feb | 292945 |   1339 |      568\n",
      "https://github.blog/developer-skills/github/video- | 154256 |    676 |      285\n",
      "https://www.theguardian.com/music/2025/apr/04/joe- | 303419 |   3640 |     1454\n",
      "https://www.theguardian.com/lifeandstyle/2025/apr/ | 300610 |   2896 |     1154\n",
      "https://github.blog/open-source/maintainers/5-gith | 156113 |    595 |      231\n",
      "https://www.theguardian.com/news/audio/2025/apr/04 | 290821 |    758 |      281\n",
      "https://www.theguardian.com/politics/ng-interactiv | 327294 |   2742 |      934\n",
      "https://www.theguardian.com/stage/2025/apr/04/a-ma | 301818 |   3079 |     1045\n",
      "https://www.theguardian.com/football/audio/2025/ap | 307550 |   1862 |      611\n",
      "https://www.theguardian.com/commentisfree/2025/apr | 296122 |   4571 |     1482\n",
      "https://www.theguardian.com/commentisfree/2025/apr | 304498 |   4687 |     1440\n",
      "https://github.blog/developer-skills/career-growth | 156807 |    785 |      229\n",
      "https://www.theguardian.com/fashion/2025/apr/04/ri | 318273 |   4529 |     1224\n",
      "https://github.blog/engineering/issueops-automate- | 188264 |    837 |      221\n",
      "https://analyticsindiamag.com/ai-news-updates/scap | 453804 |   1950 |      508\n",
      "https://www.theguardian.com/artanddesign/2025/apr/ | 321657 |   5228 |     1339\n",
      "https://www.theguardian.com/commentisfree/2025/apr | 315850 |   5142 |     1307\n",
      "https://github.blog/security/vulnerability-researc | 212081 |   1027 |      246\n",
      "https://www.theguardian.com/us-news/2025/apr/03/th | 299198 |   4008 |      958\n",
      "https://www.theguardian.com/commentisfree/2025/apr | 317592 |   7449 |     1776\n",
      "https://www.theguardian.com/lifeandstyle/2025/apr/ | 326101 |   4519 |     1050\n",
      "https://venturebeat.com/games/donkey-kong-bananza- |  77660 |   1490 |      340\n",
      "https://github.blog/security/application-security/ | 170100 |   1156 |      259\n",
      "https://thenextweb.com/news/deepmind-research-rest | 115764 |   3078 |      687\n",
      "https://www.theguardian.com/tv-and-radio/2025/apr/ | 307470 |   5419 |     1194\n",
      "https://www.theguardian.com/football/2025/apr/04/e | 315038 |   2778 |      608\n",
      "https://www.theguardian.com/technology/2025/apr/04 | 332882 |   4106 |      887\n",
      "https://www.theguardian.com/lifeandstyle/2025/apr/ | 296189 |   3429 |      730\n"
     ]
    },
    {
     "data": {
      "image/png": "[encoded data removed]",
      "text/plain": [
       "<Figure size 1000x400 with 1 Axes>"
      ]
     },
     "metadata": {},
     "output_type": "display_data"
    },
    {
     "data": {
      "image/png": "[encoded data removed]",
      "text/plain": [
       "<Figure size 1000x400 with 1 Axes>"
      ]
     },
     "metadata": {},
     "output_type": "display_data"
    },
    {
     "data": {
      "image/png": "[encoded data removed]",
      "text/plain": [
       "<Figure size 1000x400 with 1 Axes>"
      ]
     },
     "metadata": {},
     "output_type": "display_data"
    },
    {
     "data": {
      "image/png": "[encoded data removed]",
      "text/plain": [
       "<Figure size 1000x500 with 1 Axes>"
      ]
     },
     "metadata": {},
     "output_type": "display_data"
    }
   ],
   "source": [
    "import matplotlib.pyplot as plt\n",
    "\n",
    "def compare_content_sizes(articles, storage):\n",
    "    results = []\n",
    "    summary_lengths = []\n",
    "    text_html_ratios = []\n",
    "    summary_text_ratios = []\n",
    "\n",
    "    for article in articles:\n",
    "        try:\n",
    "            html = storage.from_article_get_html(article) or \"\"\n",
    "            text = storage.from_article_get_text(article) or \"\"\n",
    "            text = extract_markdown_from_html(storage.from_article_get_html(article))\n",
    "            summary = article.get(\"summary\", \"\") or \"\"\n",
    "            summary = clean_markdown(summary)\n",
    "            html_len = len(html)\n",
    "            text_len = len(text)\n",
    "            summary_len = len(summary)\n",
    "            summary_text_ratio = summary_len / text_len\n",
    "\n",
    "            if summary_text_ratio < 0.8:\n",
    "                results.append({\n",
    "                    \"url\": article.get(\"url\"),\n",
    "                    \"html_len\": html_len,\n",
    "                    \"text_len\": text_len,\n",
    "                    \"summary_len\": summary_len,\n",
    "                    \"summary_text_ratio\": summary_len / text_len\n",
    "                })\n",
    "                \n",
    "                if summary_len == 1000000:\n",
    "                    print(article.doc_id)\n",
    "                    pprint(article)\n",
    "\n",
    "                if summary_len > 0 and html_len > 0 and text_len > 0:\n",
    "                    summary_lengths.append(summary_len)\n",
    "                    text_html_ratios.append(text_len / html_len)\n",
    "                    summary_text_ratios.append(summary_len / text_len)\n",
    "\n",
    "        except Exception as e:\n",
    "            print(f\"⚠️ Error processing article: {article.get('url')} - {e}\")\n",
    "\n",
    "    # Print comparison table\n",
    "    results.sort(key=lambda x: x[\"summary_text_ratio\"], reverse=True)\n",
    "    print(f\"\\n📊 Comparison of Content Sizes (top 50 by html_content length):\")\n",
    "    print(f\"{'URL':50} | {'HTML':>6} | {'Text':>6} | {'Summary':>8}\")\n",
    "    print(\"-\" * 80)\n",
    "    for r in results[:50]:\n",
    "        print(f\"{r['url'][:50]:50} | {r['html_len']:6} | {r['text_len']:6} | {r['summary_len']:8}\")\n",
    "\n",
    "    # Plot summary length distribution\n",
    "    plt.figure(figsize=(10, 4))\n",
    "    plt.hist(summary_lengths, bins=30, edgecolor='black')\n",
    "    plt.title(\"Summary Length Distribution\")\n",
    "    plt.xlabel(\"Summary Length (chars)\")\n",
    "    plt.ylabel(\"Frequency\")\n",
    "    plt.grid(True)\n",
    "    plt.show()\n",
    "\n",
    "    # Plot text/html ratio\n",
    "    plt.figure(figsize=(10, 4))\n",
    "    plt.hist(text_html_ratios, bins=30, edgecolor='black')\n",
    "    plt.title(\"Text / HTML Length Ratio Distribution\")\n",
    "    plt.xlabel(\"Text / HTML Length Ratio\")\n",
    "    plt.ylabel(\"Frequency\")\n",
    "    plt.grid(True)\n",
    "    plt.show()\n",
    "\n",
    "    # Plot summary/text ratio\n",
    "    plt.figure(figsize=(10, 4))\n",
    "    plt.hist(summary_text_ratios, bins=30, edgecolor='black')\n",
    "    plt.title(\"Summary / Text Length Ratio Distribution\")\n",
    "    plt.xlabel(\"Summary / Text Length Ratio\")\n",
    "    plt.ylabel(\"Frequency\")\n",
    "    plt.grid(True)\n",
    "    plt.show()\n",
    "\n",
    "    # Scatter plot: summary_length vs summary_text_ratio\n",
    "    plt.figure(figsize=(10, 5))\n",
    "    plt.scatter(summary_lengths, summary_text_ratios, alpha=0.6)\n",
    "    plt.title(\"Summary Length vs Summary/Text Ratio\")\n",
    "    plt.xlabel(\"Summary Length (chars)\")\n",
    "    plt.ylabel(\"Summary / Text Ratio\")\n",
    "    plt.grid(True)\n",
    "    plt.show()\n",
    "\n",
    "    return results\n",
    "\n",
    "results = compare_content_sizes(articles, storage)"
   ]
  },
  {
   "cell_type": "code",
   "execution_count": 88,
   "metadata": {},
   "outputs": [
    {
     "name": "stdout",
     "output_type": "stream",
     "text": [
      "https://arstechnica.com/gadgets/2025/04/nvidia-confirms-the-switch-2-supports-dlss-g-sync-and-ray-tracing/\n",
      "3225\n",
      "('Text settings\\n'\n",
      " 'Story text\\n'\n",
      " 'Size Small Standard Large Width\\n'\n",
      " 'Standard Wide Links Standard Orange\\n'\n",
      " 'Subscribers only \\n'\n",
      " 'Learn more\\n'\n",
      " 'Minimize to nav\\n'\n",
      " 'In the wake of the Switch 2 reveal, neither Nintendo nor Nvidia has gone '\n",
      " 'into any detail at all about the exact chip inside the upcoming '\n",
      " 'handheld—technically, we are still not sure what Arm CPU architecture or '\n",
      " 'what GPU architecture it uses, how much RAM we can expect it to have, how '\n",
      " \"fast that memory will be, or exactly how many graphics cores we're looking \"\n",
      " 'at.\\n'\n",
      " 'But interviews with Nintendo executives and a blog post from Nvidia did at '\n",
      " 'least confirm several of the new chip\\'s capabilities. The \"custom Nvidia '\n",
      " 'processor\" has a GPU \"with dedicated [Ray-Tracing] Cores and Tensor Cores '\n",
      " 'for stunning visuals and AI-driven enhancements,\" writes Nvidia Software '\n",
      " 'Engineering VP Muni Anda.\\n'\n",
      " \"This means that, as rumored, the Switch 2 will support Nvidia's Deep \"\n",
      " 'Learning Super Sampling (DLSS) upscaling technology, which helps to upscale '\n",
      " 'a lower-resolution image into a higher-resolution image with less of a '\n",
      " 'performance impact than native rendering and less loss of quality than '\n",
      " 'traditional upscaling methods. For the Switch games that can render at 4K or '\n",
      " 'at 120 FPS 1080p, DLSS will likely be responsible for making it possible.\\n'\n",
      " 'The other major Nvidia technology supported by the new Switch is G-Sync, '\n",
      " 'which prevents screen tearing when games are running at variable frame '\n",
      " 'rates. Nvidia notes that G-Sync is only supported in handheld mode and not '\n",
      " \"in docked mode, which could be a limitation of the Switch dock's HDMI port.\\n\"\n",
      " 'The current Switch hardware is _mostly_ too old to take advantage of these '\n",
      " 'technologies. A handful of late Switch games like _The Legend of Zelda: '\n",
      " \"Tears of the Kingdom_, did make some use of AMD's hardware-agnostic (and \"\n",
      " 'lower quality) FidelityFX Super Resolution upscaling to squeeze out more '\n",
      " 'performance, but at a certain point the base hardware is just too old and '\n",
      " 'slow to achieve acceptable results.\\n'\n",
      " 'For the Switch 2, a good deal of circumstantial evidence points to the '\n",
      " 'Nvidia T239—a slightly cut-down version of the Nvidia Orin T234 it sells for '\n",
      " 'automotive, industrial, and robotics applications—powering the handheld. (In '\n",
      " \"Nvidia's branding scheme, smaller/lower numbers denote a higher-end chip). \"\n",
      " 'The T239, or whatever Switch-specific variant of the chip ends up being '\n",
      " \"inside the Switch 2, uses Nvidia's Ampere graphics architecture, the same as \"\n",
      " \"2020 and 2021's GeForce RTX 30-series GPUs for PCs.\\n\"\n",
      " \"Ampere doesn't support DLSS Frame Generation, a new feature Nvidia has \"\n",
      " 'marketed for the GeForce 40- and 50-series GPUs that generates entirely new '\n",
      " 'frames using the tensor cores rather than touching up existing frames. But '\n",
      " \"it does support all of Nvidia's DLSS upscaling models and \"\n",
      " 'hardware-accelerated ray-tracing, making it a good candidate for the Switch '\n",
      " \"2's GPU architecture.\\n\"\n",
      " 'Photo of Andrew Cunningham\\n'\n",
      " 'Andrew Cunningham Senior Technology Reporter\\n'\n",
      " 'Andrew Cunningham Senior Technology Reporter\\n'\n",
      " 'Andrew is a Senior Technology Reporter at Ars Technica, with a focus on '\n",
      " 'consumer tech including computer hardware and in-depth reviews of operating '\n",
      " 'systems like Windows and macOS. Andrew lives in Philadelphia and co-hosts a '\n",
      " 'weekly book podcast called Overdue.\\n'\n",
      " '81 Comments')\n"
     ]
    }
   ],
   "source": [
    "article = storage.get_article_by_url(results[500]['url'])\n",
    "text_content = storage.from_article_get_text(article)\n",
    "print(article['url'])\n",
    "print(len(text_content))\n",
    "pprint(text_content)"
   ]
  },
  {
   "cell_type": "code",
   "execution_count": null,
   "metadata": {},
   "outputs": [
    {
     "name": "stdout",
     "output_type": "stream",
     "text": [
      "1314\n"
     ]
    }
   ],
   "source": [
    "SUMMARY_PROMPT = '''You are a professional summarizer in an automated newsletter system.\n",
    "\n",
    "Your task is to summarize the following article in **fewer than 250 words**. The summary must be **as concise and information-dense as possible**, while preserving all **essential facts, arguments, conclusions, and relevant keywords**.\n",
    "\n",
    "Avoid: redundancy, filler phrases, vague language, or speculative commentary.  \n",
    "Do: use clear, direct language and complete sentences. Maintain a **neutral and factual tone**.\n",
    "\n",
    "ARTICLE: \"\"\"\n",
    "{text_content}\n",
    "\"\"\"\n",
    "'''"
   ]
  },
  {
   "cell_type": "markdown",
   "metadata": {},
   "source": [
    "## TAGs analysis"
   ]
  },
  {
   "cell_type": "code",
   "execution_count": 141,
   "metadata": {},
   "outputs": [
    {
     "name": "stdout",
     "output_type": "stream",
     "text": [
      "There are  1565 different tags :\n",
      "\n",
      "🏷️ Most Common Tags:\n",
      "NLP                  : 65\n",
      "LLMs                 : 64\n",
      "Data Development     : 63\n",
      "Foundation Models    : 57\n",
      "Fine-Tuning          : 52\n",
      "AI                   : 48\n",
      "Data Labeling        : 42\n",
      "World news           : 40\n",
      "Applied AI           : 40\n",
      "Artificial Intelligence : 39\n",
      "Data-Centric AI      : 35\n",
      "Data development     : 33\n",
      "Business             : 32\n",
      "UK news              : 32\n",
      "NEWS                 : 30\n",
      "US news              : 29\n",
      "Evaluation           : 29\n",
      "Research             : 28\n",
      "Machine Learning     : 26\n",
      "The-Latest           : 24\n",
      "Donald Trump         : 23\n",
      "Product              : 23\n",
      "Alignment            : 22\n",
      "News                 : 20\n",
      "AI News              : 20\n",
      "Security             : 19\n",
      "Culture              : 19\n",
      "GamesBeat            : 19\n",
      "Trump tariffs        : 18\n",
      "RAG                  : 18\n",
      "Technology           : 17\n",
      "Trump administration : 16\n",
      "Product Releases     : 16\n",
      "Nintendo             : 15\n",
      "Environment          : 15\n",
      "Life and style       : 15\n",
      "Tariffs              : 14\n",
      "US politics          : 13\n",
      "Generative AI        : 13\n",
      "MLOps                : 13\n",
      "Annotation           : 13\n",
      "Editors Pick         : 12\n",
      "Politics             : 12\n",
      "Science              : 12\n",
      "Gaming               : 12\n",
      "Sport                : 12\n",
      "LLMOps               : 12\n",
      "International trade  : 11\n",
      "Society              : 11\n",
      "Europe               : 11\n",
      "artificial intelligence : 11\n",
      "technology           : 11\n",
      "Partners             : 11\n",
      "Policy               : 10\n",
      "cybersecurity        : 10\n",
      "Game Development     : 10\n",
      "category-/Games/Computer & Video Games : 10\n",
      "Machine Learning & Data Science : 10\n",
      "Deep Neural Networks : 10\n",
      "ML                   : 10\n",
      "AI Shorts            : 9\n",
      "Tech News            : 9\n",
      "Open Source          : 9\n",
      "Startups             : 9\n",
      "England              : 9\n",
      "Gaming Business      : 9\n",
      "category-/Computers & Electronics/Consumer Electronics/Game Systems & Consoles : 9\n",
      "Tutorial             : 9\n",
      "tutorial             : 9\n",
      "Applications         : 8\n",
      "Staff                : 8\n",
      "Tech                 : 8\n",
      "Economics            : 8\n",
      "Synthetic Data       : 8\n",
      "Next Featured        : 8\n",
      "Language Model       : 7\n",
      "OpenAI               : 7\n",
      "Health               : 7\n",
      "Israel               : 7\n",
      "South and central Asia : 7\n",
      "Asia Pacific         : 7\n",
      "Nintendo Switch 2    : 7\n",
      "Latest Games & Reviews : 7\n",
      "AI, ML and Deep Learning : 7\n",
      "Switch 2             : 7\n",
      "Overviews            : 7\n",
      "Startups and technology : 7\n",
      "AI Paper Summary     : 6\n",
      "Film                 : 6\n",
      "Gaza                 : 6\n",
      "Middle East and north Africa : 6\n",
      "Palestinian territories : 6\n",
      "Books                : 6\n",
      "Football             : 6\n",
      "Art and design       : 6\n",
      "Cube Event Coverage  : 6\n",
      "AI (Artificial Intelligence) : 6\n",
      "Conversational AI    : 6\n",
      "NVIDIA Blueprints    : 6\n",
      "GTC 2025             : 6\n"
     ]
    }
   ],
   "source": [
    "from collections import Counter\n",
    "\n",
    "def count_all_tags(articles):\n",
    "    tag_counter = Counter()\n",
    "    for article in articles:\n",
    "        tags = article.get(\"tags\", [])\n",
    "        if isinstance(tags, list):\n",
    "            tag_counter.update(tags)\n",
    "    return tag_counter\n",
    "\n",
    "# Run and display\n",
    "tag_counts = count_all_tags(articles)\n",
    "print(\"There are \", len(tag_counts), \"different tags :\")\n",
    "print(\"\\n🏷️ Most Common Tags:\")\n",
    "for tag, count in tag_counts.most_common(100):  # change number to see more\n",
    "    print(f\"{tag:20} : {count}\")"
   ]
  },
  {
   "cell_type": "code",
   "execution_count": null,
   "metadata": {},
   "outputs": [],
   "source": []
  },
  {
   "cell_type": "markdown",
   "metadata": {},
   "source": [
    "## Basic experiments"
   ]
  },
  {
   "cell_type": "code",
   "execution_count": 13,
   "metadata": {},
   "outputs": [
    {
     "name": "stdout",
     "output_type": "stream",
     "text": [
      "{'config': {'openai': {'api_key_env_var': 'OPEN_ROUTER_API_KEY',\n",
      "                       'base_url': 'https://openrouter.ai/api/v1',\n",
      "                       'model': 'deepseek/deepseek-r1-distill-qwen-32b:free',\n",
      "                       'n': 1,\n",
      "                       'temperature': 0}},\n",
      " 'created_at': '2025-04-01T20:03:35.982601',\n",
      " 'input_format': 'text_content',\n",
      " 'last_updated': '2025-04-02T17:19:03.810618',\n",
      " 'name': 'deepseek-r1-distill-qwen-32b:free',\n",
      " 'output_format': 'summary',\n",
      " 'version': '2025-01-29'}\n"
     ]
    }
   ],
   "source": [
    "model_dict = storage.get_model_by_name(\"deepseek-r1-distill-qwen-32b:free\")\n",
    "pprint(model_dict)"
   ]
  },
  {
   "cell_type": "code",
   "execution_count": null,
   "metadata": {},
   "outputs": [],
   "source": []
  }
 ],
 "metadata": {
  "language_info": {
   "name": "python"
  }
 },
 "nbformat": 4,
 "nbformat_minor": 2
}
