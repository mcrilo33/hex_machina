{
 "cells": [
  {
   "cell_type": "markdown",
   "metadata": {},
   "source": [
    "# 🔍 Enricher for TTD Newsletter\n",
    "\n",
    "This notebook is used to find, test, and evaluate enriching methods over articles."
   ]
  },
  {
   "cell_type": "code",
   "execution_count": 1,
   "metadata": {},
   "outputs": [],
   "source": [
    "import sys\n",
    "import os\n",
    "sys.path.append('../')\n",
    "from ttd.storage.ttd_storage import TTDStorage\n",
    "from dotenv import load_dotenv\n",
    "from ttd.config import load_config\n",
    "from pprint import pprint\n",
    "\n",
    "load_dotenv()\n",
    "OPEN_ROUTER_API_KEY = os.getenv(\"OPEN_ROUTER_API_KEY\")\n",
    "config = load_config()\n",
    "DB_PATH = '../' + config[\"db_path\"]"
   ]
  },
  {
   "cell_type": "code",
   "execution_count": 2,
   "metadata": {},
   "outputs": [],
   "source": [
    "storage = TTDStorage(DB_PATH)\n",
    "articles = storage.get_all(\"articles\")"
   ]
  },
  {
   "cell_type": "code",
   "execution_count": 3,
   "metadata": {},
   "outputs": [
    {
     "name": "stdout",
     "output_type": "stream",
     "text": [
      "['title',\n",
      " 'author',\n",
      " 'published_date',\n",
      " 'url_domain',\n",
      " 'url',\n",
      " 'summary',\n",
      " 'tags',\n",
      " 'created_at',\n",
      " 'html_content_path',\n",
      " 'text_content_path']\n"
     ]
    }
   ],
   "source": [
    "pprint(list(articles[0].keys()))"
   ]
  },
  {
   "cell_type": "code",
   "execution_count": null,
   "metadata": {},
   "outputs": [],
   "source": [
    "model = {\n",
    "    \"name\": \"deepseek-r1-distill-qwen-32b:free\",\n",
    "    \"version\": \"2025-01-29\",\n",
    "    \"input_format\": \"text\",\n",
    "    \"output_format\": \"text\",\n",
    "    \"task_type\": \"summarization\",\n",
    "    \"config\": {\n",
    "        \"openai\": {\n",
    "            \"base_url\": \"https://openrouter.ai/api/v1\",\n",
    "            \"api_key_env_var\": \"OPEN_ROUTER_API_KEY\",\n",
    "            \"temperature\": 0,\n",
    "            \"max_tokens\": 256,\n",
    "            \"n\": 1\n",
    "        }\n",
    "    }\n",
    "}\n",
    "storage.save_model(model)"
   ]
  },
  {
   "cell_type": "code",
   "execution_count": 4,
   "metadata": {},
   "outputs": [],
   "source": [
    "model_dict = storage.get_model_by_name(\"deepseek-r1-distill-qwen-32b:free\")\n",
    "model_dict[\"config\"][\"openai\"][\"model\"] = \"deepseek/deepseek-r1-distill-qwen-32b:free\"\n",
    "model_dict[\"config\"][\"openai\"][\"max_tokens\"] = None\n",
    "storage.update_model(model_dict)"
   ]
  },
  {
   "cell_type": "code",
   "execution_count": 5,
   "metadata": {},
   "outputs": [
    {
     "name": "stdout",
     "output_type": "stream",
     "text": [
      "{'config': {'openai': {'api_key_env_var': 'OPEN_ROUTER_API_KEY',\n",
      "                       'base_url': 'https://openrouter.ai/api/v1',\n",
      "                       'max_tokens': None,\n",
      "                       'model': 'deepseek/deepseek-r1-distill-qwen-32b:free',\n",
      "                       'n': 1,\n",
      "                       'temperature': 0}},\n",
      " 'created_at': '2025-04-01T20:03:35.982601',\n",
      " 'input_format': 'text',\n",
      " 'last_updated': '2025-04-01T21:04:56.757096',\n",
      " 'name': 'deepseek-r1-distill-qwen-32b:free',\n",
      " 'output_format': 'text',\n",
      " 'task_type': 'summarization',\n",
      " 'version': '2025-01-29'}\n"
     ]
    }
   ],
   "source": [
    "model_dict = storage.get_model_by_name(\"deepseek-r1-distill-qwen-32b:free\")\n",
    "pprint(model_dict)"
   ]
  },
  {
   "cell_type": "code",
   "execution_count": 6,
   "metadata": {},
   "outputs": [
    {
     "data": {
      "text/plain": [
       "<ttd.storage.model_manager.OpenAIModel at 0x10cd61ed0>"
      ]
     },
     "execution_count": 6,
     "metadata": {},
     "output_type": "execute_result"
    }
   ],
   "source": [
    "model = storage.load_model_by_name(\"deepseek-r1-distill-qwen-32b:free\")\n",
    "model"
   ]
  },
  {
   "cell_type": "code",
   "execution_count": 7,
   "metadata": {},
   "outputs": [
    {
     "data": {
      "text/plain": [
       "('deepseek/deepseek-r1-distill-qwen-32b:free',\n",
       " {'temperature': 0, 'max_tokens': None, 'n': 1})"
      ]
     },
     "execution_count": 7,
     "metadata": {},
     "output_type": "execute_result"
    }
   ],
   "source": [
    "model.model_name,model.config"
   ]
  },
  {
   "cell_type": "code",
   "execution_count": 9,
   "metadata": {},
   "outputs": [
    {
     "data": {
      "text/plain": [
       "'The \"Will Train, Tune, Deploy - AI Newsletter Service\" has the potential to be successful, particularly if it effectively addresses the needs of its target audience and overcomes several key challenges. Here\\'s a structured analysis of its potential success factors and challenges:\\n\\n### Potential Success Factors:\\n\\n1. **Market Demand**: AI is a growing field with increasing interest from businesses and individuals. The service targets those who need AI solutions but lack the expertise, suggesting a viable market.\\n\\n2. **Comprehensive Offerings**: By providing training, tuning, and deployment services, the platform covers all stages of AI model development, which can be appealing to clients looking for a one-stop solution.\\n\\n3. **Target Audience**: Small to medium businesses, startups, and individuals with some technical background are likely to benefit, as they may lack the resources for in-house AI development.\\n\\n4. **Content Value**: If the newsletter offers exclusive insights or case studies, it could stand out in a crowded market and attract subscribers seeking valuable information.\\n\\n5. **User Experience**: A user-friendly interface is crucial, especially for less tech-savvy users, ensuring ease of use and satisfaction.\\n\\n6. **Scalability and Infrastructure**: A robust infrastructure allows the service to handle growth, ensuring performance and support as the user base increases.\\n\\n7. **Customer Support**: Effective customer support can enhance user satisfaction and encourage positive reviews, attracting more customers.\\n\\n8. **Adaptability**: Continuous updates to AI models and services can maintain relevance in a rapidly evolving field, ensuring long-term viability.\\n\\n### Challenges:\\n\\n1. **Competition**: Established companies like Google and Microsoft offer AI services, so standing out in a competitive market is crucial.\\n\\n2. **Newsletter Saturation**: With many newsletters available, the service must offer unique value to attract and retain subscribers.\\n\\n3. **Pricing Strategy**: Balancing competitive pricing with profitability is essential to avoid financial strain while attracting customers.\\n\\n4. **Marketing Effectiveness**: Successful promotion through various channels is necessary to reach the target audience effectively.\\n\\n5. **Data Privacy and Ethics**: Ensuring compliance with regulations like GDPR and maintaining data security is vital to protect the service\\'s reputation.\\n\\n### Conclusion:\\n\\nThe service has potential, especially if it meets customer needs with a good user experience, competitive pricing, and strong marketing. Addressing challenges related to competition, market saturation, and data security will be crucial for success. Long-term success depends on adaptability and continuous improvement in AI offerings.'"
      ]
     },
     "execution_count": 9,
     "metadata": {},
     "output_type": "execute_result"
    }
   ],
   "source": [
    "model.predict(\"Will Train, Tune, Deploy - AI Newsletter Service be a succes ?\")"
   ]
  },
  {
   "cell_type": "code",
   "execution_count": null,
   "metadata": {},
   "outputs": [],
   "source": []
  }
 ],
 "metadata": {
  "language_info": {
   "name": "python"
  }
 },
 "nbformat": 4,
 "nbformat_minor": 2
}
