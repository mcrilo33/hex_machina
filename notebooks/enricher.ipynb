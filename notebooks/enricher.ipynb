{
 "cells": [
  {
   "cell_type": "markdown",
   "metadata": {},
   "source": [
    "# 🔍 Enricher for TTD Newsletter\n",
    "\n",
    "This notebook is used to find, test, and evaluate enriching methods over articles."
   ]
  },
  {
   "cell_type": "code",
   "execution_count": 25,
   "metadata": {},
   "outputs": [],
   "source": [
    "from ttd.storage.ttd_storage import TTDStorage\n",
    "from dotenv import load_dotenv\n",
    "import os\n",
    "\n",
    "load_dotenv()\n",
    "OPEN_ROUTER_API_KEY = os.getenv(\"OPENROUTER_API_KEY\")\n",
    "config = load_config()\n",
    "DB_PATH = '../' + config[\"db_path\"]"
   ]
  },
  {
   "cell_type": "code",
   "execution_count": 26,
   "metadata": {},
   "outputs": [],
   "source": [
    "storage = TTDStorage(DB_PATH)\n",
    "articles = storage.get_all(\"articles\")"
   ]
  },
  {
   "cell_type": "code",
   "execution_count": 27,
   "metadata": {},
   "outputs": [
    {
     "name": "stdout",
     "output_type": "stream",
     "text": [
      "['title',\n",
      " 'author',\n",
      " 'published_date',\n",
      " 'url_domain',\n",
      " 'url',\n",
      " 'summary',\n",
      " 'tags',\n",
      " 'created_at',\n",
      " 'html_content_path',\n",
      " 'text_content_path']\n"
     ]
    }
   ],
   "source": [
    "pprint(list(articles[0].keys()))"
   ]
  },
  {
   "cell_type": "code",
   "execution_count": 33,
   "metadata": {},
   "outputs": [
    {
     "name": "stdout",
     "output_type": "stream",
     "text": [
      "('The meaning of life is a deeply philosophical question that has been '\n",
      " 'pondered by humans for centuries. Different people and cultures have various '\n",
      " 'interpretations. For some, the meaning of life is to seek happiness and '\n",
      " \"fulfillment; for others, it's about contributing to the greater good or \"\n",
      " 'connecting with the divine. What do you think gives life meaning?')\n"
     ]
    }
   ],
   "source": [
    "from openai import OpenAI\n",
    "\n",
    "client = OpenAI(\n",
    "    base_url=\"https://openrouter.ai/api/v1\",\n",
    "    api_key=OPEN_ROUTER_API_KEY,\n",
    ")\n",
    "\n",
    "completion = client.chat.completions.create(\n",
    "    extra_body={},\n",
    "    model=\"deepseek/deepseek-r1-distill-qwen-32b:free\",\n",
    "    messages=[{\n",
    "        \"role\": \"user\",\n",
    "        \"content\": \"What is the meaning of life?\"\n",
    "    }]\n",
    ")\n",
    "pprint(completion.choices[0].message.content)"
   ]
  },
  {
   "cell_type": "code",
   "execution_count": 34,
   "metadata": {},
   "outputs": [],
   "source": [
    "model = {\n",
    "    \"name\": \"deepseek-r1-distill-qwen-32b:free\",\n",
    "    \"version\": \"2025-01-29\",\n",
    "    \"input_format\": \"text\",\n",
    "    \"output_format\": \"text\",\n",
    "    \"task_type\": \"summarization\",\n",
    "    \"config\": {\n",
    "        \"OpenAI\": {\n",
    "            \"base_url\": \"https://openrouter.ai/api/v1\",\n",
    "            \"api_key_env_var\": \"OPEN_ROUTER_API_KEY\",\n",
    "            \"temperature\": 0,\n",
    "            \"max_tokens\": 256,\n",
    "            \"n\": 1\n",
    "        }\n",
    "    }\n",
    "}"
   ]
  },
  {
   "cell_type": "code",
   "execution_count": null,
   "metadata": {},
   "outputs": [],
   "source": []
  }
 ],
 "metadata": {
  "language_info": {
   "name": "python"
  }
 },
 "nbformat": 4,
 "nbformat_minor": 2
}
